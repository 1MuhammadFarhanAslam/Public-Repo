{
 "cells": [
  {
   "cell_type": "markdown",
   "metadata": {},
   "source": [
    "# Importing Essential Libraries"
   ]
  },
  {
   "cell_type": "code",
   "execution_count": 1,
   "metadata": {},
   "outputs": [],
   "source": [
    "# import libraries\n",
    "import numpy as np\n",
    "import pandas as pd\n",
    "import matplotlib.pyplot as plt\n",
    "import sklearn\n",
    "import warnings\n",
    "warnings.filterwarnings('ignore')\n",
    "import seaborn as sns\n",
    "# import keras\n",
    "# import tensorflow as tf\n",
    "# import pytorch\n",
    "# import xgboost\n"
   ]
  },
  {
   "cell_type": "markdown",
   "metadata": {},
   "source": [
    "## Read CSV"
   ]
  },
  {
   "cell_type": "code",
   "execution_count": 2,
   "metadata": {},
   "outputs": [
    {
     "data": {
      "text/html": [
       "<div>\n",
       "<style scoped>\n",
       "    .dataframe tbody tr th:only-of-type {\n",
       "        vertical-align: middle;\n",
       "    }\n",
       "\n",
       "    .dataframe tbody tr th {\n",
       "        vertical-align: top;\n",
       "    }\n",
       "\n",
       "    .dataframe thead th {\n",
       "        text-align: right;\n",
       "    }\n",
       "</style>\n",
       "<table border=\"1\" class=\"dataframe\">\n",
       "  <thead>\n",
       "    <tr style=\"text-align: right;\">\n",
       "      <th></th>\n",
       "      <th>userId</th>\n",
       "      <th>timestamp</th>\n",
       "      <th>review</th>\n",
       "      <th>item</th>\n",
       "      <th>rating</th>\n",
       "      <th>helpfulness</th>\n",
       "      <th>gender</th>\n",
       "      <th>category</th>\n",
       "    </tr>\n",
       "  </thead>\n",
       "  <tbody>\n",
       "    <tr>\n",
       "      <th>0</th>\n",
       "      <td>4259</td>\n",
       "      <td>11900</td>\n",
       "      <td>Finally, Something for (Relatively) Nothing</td>\n",
       "      <td>MyPoints.com</td>\n",
       "      <td>like</td>\n",
       "      <td>4</td>\n",
       "      <td>F</td>\n",
       "      <td>Online Stores &amp; Services</td>\n",
       "    </tr>\n",
       "    <tr>\n",
       "      <th>1</th>\n",
       "      <td>4259</td>\n",
       "      <td>12000</td>\n",
       "      <td>Shocking!</td>\n",
       "      <td>Sixth Sense</td>\n",
       "      <td>like</td>\n",
       "      <td>4</td>\n",
       "      <td>F</td>\n",
       "      <td>Movies</td>\n",
       "    </tr>\n",
       "    <tr>\n",
       "      <th>2</th>\n",
       "      <td>4259</td>\n",
       "      <td>12000</td>\n",
       "      <td>Simply Shaggadelic!</td>\n",
       "      <td>Austin Powers: The Spy Who Shagged Me</td>\n",
       "      <td>like</td>\n",
       "      <td>4</td>\n",
       "      <td>F</td>\n",
       "      <td>Movies</td>\n",
       "    </tr>\n",
       "    <tr>\n",
       "      <th>3</th>\n",
       "      <td>4259</td>\n",
       "      <td>12000</td>\n",
       "      <td>Better Than The First!</td>\n",
       "      <td>Toy Story 2</td>\n",
       "      <td>like</td>\n",
       "      <td>3</td>\n",
       "      <td>F</td>\n",
       "      <td>Movies</td>\n",
       "    </tr>\n",
       "    <tr>\n",
       "      <th>4</th>\n",
       "      <td>4259</td>\n",
       "      <td>12000</td>\n",
       "      <td>Blair Witch made me appreciate this</td>\n",
       "      <td>Star Wars Episode I: The Phantom Menace</td>\n",
       "      <td>dislike</td>\n",
       "      <td>4</td>\n",
       "      <td>F</td>\n",
       "      <td>Movies</td>\n",
       "    </tr>\n",
       "    <tr>\n",
       "      <th>...</th>\n",
       "      <td>...</td>\n",
       "      <td>...</td>\n",
       "      <td>...</td>\n",
       "      <td>...</td>\n",
       "      <td>...</td>\n",
       "      <td>...</td>\n",
       "      <td>...</td>\n",
       "      <td>...</td>\n",
       "    </tr>\n",
       "    <tr>\n",
       "      <th>2894</th>\n",
       "      <td>10815</td>\n",
       "      <td>112799</td>\n",
       "      <td>I dare you to sleep through this soon to be cl...</td>\n",
       "      <td>Sleepy Hollow</td>\n",
       "      <td>like</td>\n",
       "      <td>4</td>\n",
       "      <td>F</td>\n",
       "      <td>Movies</td>\n",
       "    </tr>\n",
       "    <tr>\n",
       "      <th>2895</th>\n",
       "      <td>10815</td>\n",
       "      <td>121299</td>\n",
       "      <td>Another movie to keep us out of the water!!!!</td>\n",
       "      <td>Deep Blue Sea</td>\n",
       "      <td>like</td>\n",
       "      <td>3</td>\n",
       "      <td>F</td>\n",
       "      <td>Movies</td>\n",
       "    </tr>\n",
       "    <tr>\n",
       "      <th>2896</th>\n",
       "      <td>10815</td>\n",
       "      <td>121399</td>\n",
       "      <td>Miles above other films.</td>\n",
       "      <td>Green Mile</td>\n",
       "      <td>like</td>\n",
       "      <td>4</td>\n",
       "      <td>F</td>\n",
       "      <td>Movies</td>\n",
       "    </tr>\n",
       "    <tr>\n",
       "      <th>2897</th>\n",
       "      <td>10815</td>\n",
       "      <td>121499</td>\n",
       "      <td>This could be the beginning of a comedy era.</td>\n",
       "      <td>Austin Powers: The Spy Who Shagged Me</td>\n",
       "      <td>dislike</td>\n",
       "      <td>4</td>\n",
       "      <td>F</td>\n",
       "      <td>Movies</td>\n",
       "    </tr>\n",
       "    <tr>\n",
       "      <th>2898</th>\n",
       "      <td>10815</td>\n",
       "      <td>121499</td>\n",
       "      <td>Maybe it should have been cut?</td>\n",
       "      <td>South Park: Bigger, Longer &amp; Uncut</td>\n",
       "      <td>dislike</td>\n",
       "      <td>4</td>\n",
       "      <td>F</td>\n",
       "      <td>Movies</td>\n",
       "    </tr>\n",
       "  </tbody>\n",
       "</table>\n",
       "<p>2899 rows × 8 columns</p>\n",
       "</div>"
      ],
      "text/plain": [
       "      userId  timestamp                                             review  \\\n",
       "0       4259      11900        Finally, Something for (Relatively) Nothing   \n",
       "1       4259      12000                                          Shocking!   \n",
       "2       4259      12000                                Simply Shaggadelic!   \n",
       "3       4259      12000                             Better Than The First!   \n",
       "4       4259      12000                Blair Witch made me appreciate this   \n",
       "...      ...        ...                                                ...   \n",
       "2894   10815     112799  I dare you to sleep through this soon to be cl...   \n",
       "2895   10815     121299      Another movie to keep us out of the water!!!!   \n",
       "2896   10815     121399                           Miles above other films.   \n",
       "2897   10815     121499       This could be the beginning of a comedy era.   \n",
       "2898   10815     121499                     Maybe it should have been cut?   \n",
       "\n",
       "                                         item   rating  helpfulness gender  \\\n",
       "0                                MyPoints.com     like            4      F   \n",
       "1                                 Sixth Sense     like            4      F   \n",
       "2       Austin Powers: The Spy Who Shagged Me     like            4      F   \n",
       "3                                 Toy Story 2     like            3      F   \n",
       "4     Star Wars Episode I: The Phantom Menace  dislike            4      F   \n",
       "...                                       ...      ...          ...    ...   \n",
       "2894                            Sleepy Hollow     like            4      F   \n",
       "2895                            Deep Blue Sea     like            3      F   \n",
       "2896                               Green Mile     like            4      F   \n",
       "2897    Austin Powers: The Spy Who Shagged Me  dislike            4      F   \n",
       "2898       South Park: Bigger, Longer & Uncut  dislike            4      F   \n",
       "\n",
       "                      category  \n",
       "0     Online Stores & Services  \n",
       "1                       Movies  \n",
       "2                       Movies  \n",
       "3                       Movies  \n",
       "4                       Movies  \n",
       "...                        ...  \n",
       "2894                    Movies  \n",
       "2895                    Movies  \n",
       "2896                    Movies  \n",
       "2897                    Movies  \n",
       "2898                    Movies  \n",
       "\n",
       "[2899 rows x 8 columns]"
      ]
     },
     "execution_count": 2,
     "metadata": {},
     "output_type": "execute_result"
    }
   ],
   "source": [
    "# import data\n",
    "df = pd.read_csv('Portfolio 3.csv')\n",
    "df\n"
   ]
  },
  {
   "cell_type": "code",
   "execution_count": 3,
   "metadata": {},
   "outputs": [
    {
     "name": "stdout",
     "output_type": "stream",
     "text": [
      "<class 'pandas.core.frame.DataFrame'>\n",
      "RangeIndex: 2899 entries, 0 to 2898\n",
      "Data columns (total 8 columns):\n",
      " #   Column       Non-Null Count  Dtype \n",
      "---  ------       --------------  ----- \n",
      " 0   userId       2899 non-null   int64 \n",
      " 1   timestamp    2899 non-null   int64 \n",
      " 2   review       2899 non-null   object\n",
      " 3   item         2899 non-null   object\n",
      " 4   rating       2899 non-null   object\n",
      " 5   helpfulness  2899 non-null   int64 \n",
      " 6   gender       2899 non-null   object\n",
      " 7   category     2899 non-null   object\n",
      "dtypes: int64(3), object(5)\n",
      "memory usage: 181.3+ KB\n"
     ]
    }
   ],
   "source": [
    "# check the data\n",
    "df.info()"
   ]
  },
  {
   "cell_type": "code",
   "execution_count": 4,
   "metadata": {},
   "outputs": [
    {
     "data": {
      "text/html": [
       "<div>\n",
       "<style scoped>\n",
       "    .dataframe tbody tr th:only-of-type {\n",
       "        vertical-align: middle;\n",
       "    }\n",
       "\n",
       "    .dataframe tbody tr th {\n",
       "        vertical-align: top;\n",
       "    }\n",
       "\n",
       "    .dataframe thead th {\n",
       "        text-align: right;\n",
       "    }\n",
       "</style>\n",
       "<table border=\"1\" class=\"dataframe\">\n",
       "  <thead>\n",
       "    <tr style=\"text-align: right;\">\n",
       "      <th></th>\n",
       "      <th>userId</th>\n",
       "      <th>timestamp</th>\n",
       "      <th>helpfulness</th>\n",
       "    </tr>\n",
       "  </thead>\n",
       "  <tbody>\n",
       "    <tr>\n",
       "      <th>count</th>\n",
       "      <td>2899.000000</td>\n",
       "      <td>2899.000000</td>\n",
       "      <td>2899.000000</td>\n",
       "    </tr>\n",
       "    <tr>\n",
       "      <th>mean</th>\n",
       "      <td>5430.148672</td>\n",
       "      <td>56403.285271</td>\n",
       "      <td>3.875474</td>\n",
       "    </tr>\n",
       "    <tr>\n",
       "      <th>std</th>\n",
       "      <td>3460.227028</td>\n",
       "      <td>37664.826368</td>\n",
       "      <td>0.330237</td>\n",
       "    </tr>\n",
       "    <tr>\n",
       "      <th>min</th>\n",
       "      <td>46.000000</td>\n",
       "      <td>10100.000000</td>\n",
       "      <td>3.000000</td>\n",
       "    </tr>\n",
       "    <tr>\n",
       "      <th>25%</th>\n",
       "      <td>1676.000000</td>\n",
       "      <td>20500.000000</td>\n",
       "      <td>4.000000</td>\n",
       "    </tr>\n",
       "    <tr>\n",
       "      <th>50%</th>\n",
       "      <td>5985.000000</td>\n",
       "      <td>52101.000000</td>\n",
       "      <td>4.000000</td>\n",
       "    </tr>\n",
       "    <tr>\n",
       "      <th>75%</th>\n",
       "      <td>8626.000000</td>\n",
       "      <td>82500.000000</td>\n",
       "      <td>4.000000</td>\n",
       "    </tr>\n",
       "    <tr>\n",
       "      <th>max</th>\n",
       "      <td>10815.000000</td>\n",
       "      <td>123199.000000</td>\n",
       "      <td>4.000000</td>\n",
       "    </tr>\n",
       "  </tbody>\n",
       "</table>\n",
       "</div>"
      ],
      "text/plain": [
       "             userId      timestamp  helpfulness\n",
       "count   2899.000000    2899.000000  2899.000000\n",
       "mean    5430.148672   56403.285271     3.875474\n",
       "std     3460.227028   37664.826368     0.330237\n",
       "min       46.000000   10100.000000     3.000000\n",
       "25%     1676.000000   20500.000000     4.000000\n",
       "50%     5985.000000   52101.000000     4.000000\n",
       "75%     8626.000000   82500.000000     4.000000\n",
       "max    10815.000000  123199.000000     4.000000"
      ]
     },
     "execution_count": 4,
     "metadata": {},
     "output_type": "execute_result"
    }
   ],
   "source": [
    "# check the data\n",
    "df.describe()"
   ]
  },
  {
   "cell_type": "code",
   "execution_count": 5,
   "metadata": {},
   "outputs": [
    {
     "data": {
      "text/plain": [
       "(2899, 8)"
      ]
     },
     "execution_count": 5,
     "metadata": {},
     "output_type": "execute_result"
    }
   ],
   "source": [
    "# check the data\n",
    "df.shape"
   ]
  },
  {
   "cell_type": "code",
   "execution_count": 6,
   "metadata": {},
   "outputs": [
    {
     "data": {
      "text/plain": [
       "Index(['userId', 'timestamp', 'review', 'item', 'rating', 'helpfulness',\n",
       "       'gender', 'category'],\n",
       "      dtype='object')"
      ]
     },
     "execution_count": 6,
     "metadata": {},
     "output_type": "execute_result"
    }
   ],
   "source": [
    "# check the data\n",
    "df.columns"
   ]
  },
  {
   "cell_type": "markdown",
   "metadata": {},
   "source": [
    "# Droping Unnecessary Columns\n",
    "As userId, timestamp and gender has no significant effect on the likeness and dislikeness, so we are dropping them."
   ]
  },
  {
   "cell_type": "code",
   "execution_count": 7,
   "metadata": {},
   "outputs": [
    {
     "data": {
      "text/html": [
       "<div>\n",
       "<style scoped>\n",
       "    .dataframe tbody tr th:only-of-type {\n",
       "        vertical-align: middle;\n",
       "    }\n",
       "\n",
       "    .dataframe tbody tr th {\n",
       "        vertical-align: top;\n",
       "    }\n",
       "\n",
       "    .dataframe thead th {\n",
       "        text-align: right;\n",
       "    }\n",
       "</style>\n",
       "<table border=\"1\" class=\"dataframe\">\n",
       "  <thead>\n",
       "    <tr style=\"text-align: right;\">\n",
       "      <th></th>\n",
       "      <th>review</th>\n",
       "      <th>item</th>\n",
       "      <th>rating</th>\n",
       "      <th>helpfulness</th>\n",
       "      <th>category</th>\n",
       "    </tr>\n",
       "  </thead>\n",
       "  <tbody>\n",
       "    <tr>\n",
       "      <th>0</th>\n",
       "      <td>Finally, Something for (Relatively) Nothing</td>\n",
       "      <td>MyPoints.com</td>\n",
       "      <td>like</td>\n",
       "      <td>4</td>\n",
       "      <td>Online Stores &amp; Services</td>\n",
       "    </tr>\n",
       "    <tr>\n",
       "      <th>1</th>\n",
       "      <td>Shocking!</td>\n",
       "      <td>Sixth Sense</td>\n",
       "      <td>like</td>\n",
       "      <td>4</td>\n",
       "      <td>Movies</td>\n",
       "    </tr>\n",
       "    <tr>\n",
       "      <th>2</th>\n",
       "      <td>Simply Shaggadelic!</td>\n",
       "      <td>Austin Powers: The Spy Who Shagged Me</td>\n",
       "      <td>like</td>\n",
       "      <td>4</td>\n",
       "      <td>Movies</td>\n",
       "    </tr>\n",
       "    <tr>\n",
       "      <th>3</th>\n",
       "      <td>Better Than The First!</td>\n",
       "      <td>Toy Story 2</td>\n",
       "      <td>like</td>\n",
       "      <td>3</td>\n",
       "      <td>Movies</td>\n",
       "    </tr>\n",
       "    <tr>\n",
       "      <th>4</th>\n",
       "      <td>Blair Witch made me appreciate this</td>\n",
       "      <td>Star Wars Episode I: The Phantom Menace</td>\n",
       "      <td>dislike</td>\n",
       "      <td>4</td>\n",
       "      <td>Movies</td>\n",
       "    </tr>\n",
       "    <tr>\n",
       "      <th>...</th>\n",
       "      <td>...</td>\n",
       "      <td>...</td>\n",
       "      <td>...</td>\n",
       "      <td>...</td>\n",
       "      <td>...</td>\n",
       "    </tr>\n",
       "    <tr>\n",
       "      <th>2894</th>\n",
       "      <td>I dare you to sleep through this soon to be cl...</td>\n",
       "      <td>Sleepy Hollow</td>\n",
       "      <td>like</td>\n",
       "      <td>4</td>\n",
       "      <td>Movies</td>\n",
       "    </tr>\n",
       "    <tr>\n",
       "      <th>2895</th>\n",
       "      <td>Another movie to keep us out of the water!!!!</td>\n",
       "      <td>Deep Blue Sea</td>\n",
       "      <td>like</td>\n",
       "      <td>3</td>\n",
       "      <td>Movies</td>\n",
       "    </tr>\n",
       "    <tr>\n",
       "      <th>2896</th>\n",
       "      <td>Miles above other films.</td>\n",
       "      <td>Green Mile</td>\n",
       "      <td>like</td>\n",
       "      <td>4</td>\n",
       "      <td>Movies</td>\n",
       "    </tr>\n",
       "    <tr>\n",
       "      <th>2897</th>\n",
       "      <td>This could be the beginning of a comedy era.</td>\n",
       "      <td>Austin Powers: The Spy Who Shagged Me</td>\n",
       "      <td>dislike</td>\n",
       "      <td>4</td>\n",
       "      <td>Movies</td>\n",
       "    </tr>\n",
       "    <tr>\n",
       "      <th>2898</th>\n",
       "      <td>Maybe it should have been cut?</td>\n",
       "      <td>South Park: Bigger, Longer &amp; Uncut</td>\n",
       "      <td>dislike</td>\n",
       "      <td>4</td>\n",
       "      <td>Movies</td>\n",
       "    </tr>\n",
       "  </tbody>\n",
       "</table>\n",
       "<p>2899 rows × 5 columns</p>\n",
       "</div>"
      ],
      "text/plain": [
       "                                                 review  \\\n",
       "0           Finally, Something for (Relatively) Nothing   \n",
       "1                                             Shocking!   \n",
       "2                                   Simply Shaggadelic!   \n",
       "3                                Better Than The First!   \n",
       "4                   Blair Witch made me appreciate this   \n",
       "...                                                 ...   \n",
       "2894  I dare you to sleep through this soon to be cl...   \n",
       "2895      Another movie to keep us out of the water!!!!   \n",
       "2896                           Miles above other films.   \n",
       "2897       This could be the beginning of a comedy era.   \n",
       "2898                     Maybe it should have been cut?   \n",
       "\n",
       "                                         item   rating  helpfulness  \\\n",
       "0                                MyPoints.com     like            4   \n",
       "1                                 Sixth Sense     like            4   \n",
       "2       Austin Powers: The Spy Who Shagged Me     like            4   \n",
       "3                                 Toy Story 2     like            3   \n",
       "4     Star Wars Episode I: The Phantom Menace  dislike            4   \n",
       "...                                       ...      ...          ...   \n",
       "2894                            Sleepy Hollow     like            4   \n",
       "2895                            Deep Blue Sea     like            3   \n",
       "2896                               Green Mile     like            4   \n",
       "2897    Austin Powers: The Spy Who Shagged Me  dislike            4   \n",
       "2898       South Park: Bigger, Longer & Uncut  dislike            4   \n",
       "\n",
       "                      category  \n",
       "0     Online Stores & Services  \n",
       "1                       Movies  \n",
       "2                       Movies  \n",
       "3                       Movies  \n",
       "4                       Movies  \n",
       "...                        ...  \n",
       "2894                    Movies  \n",
       "2895                    Movies  \n",
       "2896                    Movies  \n",
       "2897                    Movies  \n",
       "2898                    Movies  \n",
       "\n",
       "[2899 rows x 5 columns]"
      ]
     },
     "execution_count": 7,
     "metadata": {},
     "output_type": "execute_result"
    }
   ],
   "source": [
    "# drop unnecessary columns\n",
    "df.drop(columns=['userId', 'timestamp','gender'],inplace=True)\n",
    "df"
   ]
  },
  {
   "cell_type": "code",
   "execution_count": 8,
   "metadata": {},
   "outputs": [
    {
     "data": {
      "text/html": [
       "<div>\n",
       "<style scoped>\n",
       "    .dataframe tbody tr th:only-of-type {\n",
       "        vertical-align: middle;\n",
       "    }\n",
       "\n",
       "    .dataframe tbody tr th {\n",
       "        vertical-align: top;\n",
       "    }\n",
       "\n",
       "    .dataframe thead th {\n",
       "        text-align: right;\n",
       "    }\n",
       "</style>\n",
       "<table border=\"1\" class=\"dataframe\">\n",
       "  <thead>\n",
       "    <tr style=\"text-align: right;\">\n",
       "      <th></th>\n",
       "      <th>item</th>\n",
       "      <th>category</th>\n",
       "      <th>review</th>\n",
       "      <th>helpfulness</th>\n",
       "      <th>rating</th>\n",
       "    </tr>\n",
       "  </thead>\n",
       "  <tbody>\n",
       "    <tr>\n",
       "      <th>0</th>\n",
       "      <td>MyPoints.com</td>\n",
       "      <td>Online Stores &amp; Services</td>\n",
       "      <td>Finally, Something for (Relatively) Nothing</td>\n",
       "      <td>4</td>\n",
       "      <td>like</td>\n",
       "    </tr>\n",
       "    <tr>\n",
       "      <th>1</th>\n",
       "      <td>Sixth Sense</td>\n",
       "      <td>Movies</td>\n",
       "      <td>Shocking!</td>\n",
       "      <td>4</td>\n",
       "      <td>like</td>\n",
       "    </tr>\n",
       "    <tr>\n",
       "      <th>2</th>\n",
       "      <td>Austin Powers: The Spy Who Shagged Me</td>\n",
       "      <td>Movies</td>\n",
       "      <td>Simply Shaggadelic!</td>\n",
       "      <td>4</td>\n",
       "      <td>like</td>\n",
       "    </tr>\n",
       "    <tr>\n",
       "      <th>3</th>\n",
       "      <td>Toy Story 2</td>\n",
       "      <td>Movies</td>\n",
       "      <td>Better Than The First!</td>\n",
       "      <td>3</td>\n",
       "      <td>like</td>\n",
       "    </tr>\n",
       "    <tr>\n",
       "      <th>4</th>\n",
       "      <td>Star Wars Episode I: The Phantom Menace</td>\n",
       "      <td>Movies</td>\n",
       "      <td>Blair Witch made me appreciate this</td>\n",
       "      <td>4</td>\n",
       "      <td>dislike</td>\n",
       "    </tr>\n",
       "    <tr>\n",
       "      <th>...</th>\n",
       "      <td>...</td>\n",
       "      <td>...</td>\n",
       "      <td>...</td>\n",
       "      <td>...</td>\n",
       "      <td>...</td>\n",
       "    </tr>\n",
       "    <tr>\n",
       "      <th>2894</th>\n",
       "      <td>Sleepy Hollow</td>\n",
       "      <td>Movies</td>\n",
       "      <td>I dare you to sleep through this soon to be cl...</td>\n",
       "      <td>4</td>\n",
       "      <td>like</td>\n",
       "    </tr>\n",
       "    <tr>\n",
       "      <th>2895</th>\n",
       "      <td>Deep Blue Sea</td>\n",
       "      <td>Movies</td>\n",
       "      <td>Another movie to keep us out of the water!!!!</td>\n",
       "      <td>3</td>\n",
       "      <td>like</td>\n",
       "    </tr>\n",
       "    <tr>\n",
       "      <th>2896</th>\n",
       "      <td>Green Mile</td>\n",
       "      <td>Movies</td>\n",
       "      <td>Miles above other films.</td>\n",
       "      <td>4</td>\n",
       "      <td>like</td>\n",
       "    </tr>\n",
       "    <tr>\n",
       "      <th>2897</th>\n",
       "      <td>Austin Powers: The Spy Who Shagged Me</td>\n",
       "      <td>Movies</td>\n",
       "      <td>This could be the beginning of a comedy era.</td>\n",
       "      <td>4</td>\n",
       "      <td>dislike</td>\n",
       "    </tr>\n",
       "    <tr>\n",
       "      <th>2898</th>\n",
       "      <td>South Park: Bigger, Longer &amp; Uncut</td>\n",
       "      <td>Movies</td>\n",
       "      <td>Maybe it should have been cut?</td>\n",
       "      <td>4</td>\n",
       "      <td>dislike</td>\n",
       "    </tr>\n",
       "  </tbody>\n",
       "</table>\n",
       "<p>2899 rows × 5 columns</p>\n",
       "</div>"
      ],
      "text/plain": [
       "                                         item                  category  \\\n",
       "0                                MyPoints.com  Online Stores & Services   \n",
       "1                                 Sixth Sense                    Movies   \n",
       "2       Austin Powers: The Spy Who Shagged Me                    Movies   \n",
       "3                                 Toy Story 2                    Movies   \n",
       "4     Star Wars Episode I: The Phantom Menace                    Movies   \n",
       "...                                       ...                       ...   \n",
       "2894                            Sleepy Hollow                    Movies   \n",
       "2895                            Deep Blue Sea                    Movies   \n",
       "2896                               Green Mile                    Movies   \n",
       "2897    Austin Powers: The Spy Who Shagged Me                    Movies   \n",
       "2898       South Park: Bigger, Longer & Uncut                    Movies   \n",
       "\n",
       "                                                 review  helpfulness   rating  \n",
       "0           Finally, Something for (Relatively) Nothing            4     like  \n",
       "1                                             Shocking!            4     like  \n",
       "2                                   Simply Shaggadelic!            4     like  \n",
       "3                                Better Than The First!            3     like  \n",
       "4                   Blair Witch made me appreciate this            4  dislike  \n",
       "...                                                 ...          ...      ...  \n",
       "2894  I dare you to sleep through this soon to be cl...            4     like  \n",
       "2895      Another movie to keep us out of the water!!!!            3     like  \n",
       "2896                           Miles above other films.            4     like  \n",
       "2897       This could be the beginning of a comedy era.            4  dislike  \n",
       "2898                     Maybe it should have been cut?            4  dislike  \n",
       "\n",
       "[2899 rows x 5 columns]"
      ]
     },
     "execution_count": 8,
     "metadata": {},
     "output_type": "execute_result"
    }
   ],
   "source": [
    "# reindex the database\n",
    "\n",
    "df1 = df.reindex(columns=['item', 'category','review' ,'helpfulness', 'rating'])\n",
    "df1"
   ]
  },
  {
   "cell_type": "markdown",
   "metadata": {},
   "source": [
    "# Types of variables\n",
    "In this section, I segregate the dataset into categorical and numerical variables. There is a mixture of categorical and numerical variables in the dataset. Categorical variables have data type object. Numerical variables have data type float64.\n",
    "\n",
    "First of all, I will find categorical variables."
   ]
  },
  {
   "cell_type": "code",
   "execution_count": 9,
   "metadata": {},
   "outputs": [
    {
     "name": "stdout",
     "output_type": "stream",
     "text": [
      "There are 4 categorical variables\n",
      "\n",
      "The categorical variables are : ['review', 'item', 'rating', 'category']\n"
     ]
    }
   ],
   "source": [
    "# find categorical variables\n",
    "\n",
    "categorical = [var for var in df.columns if df[var].dtype == 'O']\n",
    "\n",
    "print('There are {} categorical variables\\n'.format(len(categorical)))\n",
    "\n",
    "print('The categorical variables are :', categorical)\n"
   ]
  },
  {
   "cell_type": "code",
   "execution_count": 10,
   "metadata": {},
   "outputs": [
    {
     "name": "stdout",
     "output_type": "stream",
     "text": [
      "Flick Pick                                10\n",
      "Ebay                                       3\n",
      "American Beauty                            3\n",
      "The Green Mile                             2\n",
      "Where is the music?                        2\n",
      "                                          ..\n",
      "Ron's Grinch!                              1\n",
      "Game? Movies? Music? Like any of them?     1\n",
      "A great Sequel                             1\n",
      "Amazon.com, a great place to shop!         1\n",
      "Maybe it should have been cut?             1\n",
      "Name: review, Length: 2862, dtype: int64\n",
      "AOL (America Online)                                   98\n",
      "All Advantage                                          76\n",
      "eBay                                                   73\n",
      "MTV                                                    72\n",
      "Gladiator                                              69\n",
      "                                                       ..\n",
      "Delta Air Lines                                        13\n",
      "The Legend Of Zelda Ocarina Of Time for Nintendo 64    11\n",
      "Diablo 2 - Bestseller Series for Windows               11\n",
      "Golden Eye 007 for Nintendo 64                         11\n",
      "Northwest Airlines                                     11\n",
      "Name: item, Length: 86, dtype: int64\n",
      "like       1849\n",
      "dislike    1050\n",
      "Name: rating, dtype: int64\n",
      "Movies                      1317\n",
      "Online Stores & Services     640\n",
      "Restaurants & Gourmet        279\n",
      "Hotels & Travel              158\n",
      "Kids & Family                152\n",
      "Media                        145\n",
      "Games                        113\n",
      "Personal Finance              69\n",
      "Books                         26\n",
      "Name: category, dtype: int64\n"
     ]
    }
   ],
   "source": [
    "# view frequency of categorical variables\n",
    "\n",
    "for var in categorical:\n",
    "\n",
    "    print(df[var].value_counts())\n"
   ]
  },
  {
   "cell_type": "code",
   "execution_count": 11,
   "metadata": {},
   "outputs": [
    {
     "name": "stdout",
     "output_type": "stream",
     "text": [
      "['Finally, Something for (Relatively) Nothing' 'Shocking!'\n",
      " 'Simply Shaggadelic!' ... 'Miles above other films.'\n",
      " 'This could be the beginning of a comedy era.'\n",
      " 'Maybe it should have been cut?']\n",
      "['MyPoints.com' 'Sixth Sense' 'Austin Powers: The Spy Who Shagged Me'\n",
      " 'Toy Story 2' 'Star Wars Episode I: The Phantom Menace' 'New York City'\n",
      " 'Earthlink' 'Blair Witch Project' 'Being John Malkovich'\n",
      " 'The Sims 2: Open for Business for Windows' 'Unbreakable'\n",
      " 'Erin Brockovich' 'Cast Away' 'Crouching Tiger, Hidden Dragon'\n",
      " 'Final Fantasy VIII for PlayStation 1' 'Fight Club'\n",
      " 'The Legend Of Zelda Ocarina Of Time for Nintendo 64' 'American Beauty'\n",
      " 'Matrix' 'What Lies Beneath' 'Green Mile' 'Google' 'PayPal' 'eBay'\n",
      " 'Las Vegas' 'Deep Blue Sea' 'All Advantage' 'MTV'\n",
      " 'Diablo 2 - Bestseller Series for Windows' 'Spedia' 'Gladiator'\n",
      " 'Sony PlayStation 2 Slimline Console' 'Perfect Storm' 'American Airlines'\n",
      " 'Simpsons, The' \"McDonald's\" 'Mission: Impossible II' 'Burger King'\n",
      " 'AOL (America Online)' 'Golden Eye 007 for Nintendo 64' 'FOX' 'Scream 3'\n",
      " 'NetZero' \"Wendy's\" 'Galaxy Quest' 'NBC' 'Alta Vista (by 1stUp)'\n",
      " 'NetFlix' 'StartSampling.Com' 'Olive Garden' 'FreeRide.com' 'Amazon.com'\n",
      " 'Subway' 'Shrek' 'Priceline Flight Reservations'\n",
      " 'Blue Mountain Arts eCards' 'Bank of America' 'Sleepy Hollow'\n",
      " 'Teletubbies' 'Treeloot.com' 'The Original Furby' 'Northwest Airlines'\n",
      " 'Talented Mr. Ripley' 'South Park: Bigger, Longer & Uncut'\n",
      " 'Any Given Sunday' 'X-Men' 'American Pie'\n",
      " \"J. K. Rowling - Harry Potter and the Sorcerer's Stone\"\n",
      " 'Outback Steakhouse' 'BlueLight.com' 'How the Grinch Stole Christmas'\n",
      " \"Applebee's\" 'Pearl Harbor' 'Roller Coaster Tycoon For Windows' 'Patriot'\n",
      " \"Blue's Clues\" 'Luvs Ultra Leakguards Stretch' 'Scary Movie' 'Taco Bell'\n",
      " 'Dogma' 'United Airlines' 'X.com' 'Playtex Diaper Genie System'\n",
      " 'Southwest Airlines' 'Huggies Ultra Trim Diapers' 'Delta Air Lines']\n",
      "['like' 'dislike']\n",
      "['Online Stores & Services' 'Movies' 'Hotels & Travel' 'Games'\n",
      " 'Personal Finance' 'Media' 'Kids & Family' 'Restaurants & Gourmet'\n",
      " 'Books']\n"
     ]
    }
   ],
   "source": [
    "# view unique categorical variables\n",
    "\n",
    "for var in categorical:\n",
    "\n",
    "    print(df[var].unique())\n"
   ]
  },
  {
   "cell_type": "code",
   "execution_count": 12,
   "metadata": {},
   "outputs": [
    {
     "name": "stdout",
     "output_type": "stream",
     "text": [
      "review  contains  2862  labels\n",
      "item  contains  86  labels\n",
      "rating  contains  2  labels\n",
      "category  contains  9  labels\n"
     ]
    }
   ],
   "source": [
    "# check for cardinality in categorical variables\n",
    "\n",
    "for var in categorical:\n",
    "\n",
    "    print(var, ' contains ', len(df[var].unique()), ' labels')"
   ]
  },
  {
   "cell_type": "code",
   "execution_count": 13,
   "metadata": {},
   "outputs": [
    {
     "data": {
      "text/plain": [
       "review      0\n",
       "item        0\n",
       "rating      0\n",
       "category    0\n",
       "dtype: int64"
      ]
     },
     "execution_count": 13,
     "metadata": {},
     "output_type": "execute_result"
    }
   ],
   "source": [
    "# check for missing values in categorical variables\n",
    "\n",
    "df[categorical].isnull().sum()\n"
   ]
  },
  {
   "cell_type": "code",
   "execution_count": 14,
   "metadata": {},
   "outputs": [
    {
     "data": {
      "text/plain": [
       "array(['MyPoints.com', 'Sixth Sense',\n",
       "       'Austin Powers: The Spy Who Shagged Me', 'Toy Story 2',\n",
       "       'Star Wars Episode I: The Phantom Menace', 'New York City',\n",
       "       'Earthlink', 'Blair Witch Project', 'Being John Malkovich',\n",
       "       'The Sims 2: Open for Business for Windows', 'Unbreakable',\n",
       "       'Erin Brockovich', 'Cast Away', 'Crouching Tiger, Hidden Dragon',\n",
       "       'Final Fantasy VIII for PlayStation 1', 'Fight Club',\n",
       "       'The Legend Of Zelda Ocarina Of Time for Nintendo 64',\n",
       "       'American Beauty', 'Matrix', 'What Lies Beneath', 'Green Mile',\n",
       "       'Google', 'PayPal', 'eBay', 'Las Vegas', 'Deep Blue Sea',\n",
       "       'All Advantage', 'MTV', 'Diablo 2 - Bestseller Series for Windows',\n",
       "       'Spedia', 'Gladiator', 'Sony PlayStation 2 Slimline Console',\n",
       "       'Perfect Storm', 'American Airlines', 'Simpsons, The',\n",
       "       \"McDonald's\", 'Mission: Impossible II', 'Burger King',\n",
       "       'AOL (America Online)', 'Golden Eye 007 for Nintendo 64', 'FOX',\n",
       "       'Scream 3', 'NetZero', \"Wendy's\", 'Galaxy Quest', 'NBC',\n",
       "       'Alta Vista (by 1stUp)', 'NetFlix', 'StartSampling.Com',\n",
       "       'Olive Garden', 'FreeRide.com', 'Amazon.com', 'Subway', 'Shrek',\n",
       "       'Priceline Flight Reservations', 'Blue Mountain Arts eCards',\n",
       "       'Bank of America', 'Sleepy Hollow', 'Teletubbies', 'Treeloot.com',\n",
       "       'The Original Furby', 'Northwest Airlines', 'Talented Mr. Ripley',\n",
       "       'South Park: Bigger, Longer & Uncut', 'Any Given Sunday', 'X-Men',\n",
       "       'American Pie',\n",
       "       \"J. K. Rowling - Harry Potter and the Sorcerer's Stone\",\n",
       "       'Outback Steakhouse', 'BlueLight.com',\n",
       "       'How the Grinch Stole Christmas', \"Applebee's\", 'Pearl Harbor',\n",
       "       'Roller Coaster Tycoon For Windows', 'Patriot', \"Blue's Clues\",\n",
       "       'Luvs Ultra Leakguards Stretch', 'Scary Movie', 'Taco Bell',\n",
       "       'Dogma', 'United Airlines', 'X.com', 'Playtex Diaper Genie System',\n",
       "       'Southwest Airlines', 'Huggies Ultra Trim Diapers',\n",
       "       'Delta Air Lines'], dtype=object)"
      ]
     },
     "execution_count": 14,
     "metadata": {},
     "output_type": "execute_result"
    }
   ],
   "source": [
    "# check unique labels in item variable\n",
    "\n",
    "df.item.unique()\n"
   ]
  },
  {
   "cell_type": "markdown",
   "metadata": {},
   "source": [
    "# Let's get a sense of the numbers across the two classes"
   ]
  },
  {
   "cell_type": "code",
   "execution_count": 15,
   "metadata": {},
   "outputs": [
    {
     "data": {
      "text/html": [
       "<div>\n",
       "<style scoped>\n",
       "    .dataframe tbody tr th:only-of-type {\n",
       "        vertical-align: middle;\n",
       "    }\n",
       "\n",
       "    .dataframe tbody tr th {\n",
       "        vertical-align: top;\n",
       "    }\n",
       "\n",
       "    .dataframe thead th {\n",
       "        text-align: right;\n",
       "    }\n",
       "</style>\n",
       "<table border=\"1\" class=\"dataframe\">\n",
       "  <thead>\n",
       "    <tr style=\"text-align: right;\">\n",
       "      <th></th>\n",
       "      <th>helpfulness</th>\n",
       "    </tr>\n",
       "    <tr>\n",
       "      <th>rating</th>\n",
       "      <th></th>\n",
       "    </tr>\n",
       "  </thead>\n",
       "  <tbody>\n",
       "    <tr>\n",
       "      <th>dislike</th>\n",
       "      <td>3.882857</td>\n",
       "    </tr>\n",
       "    <tr>\n",
       "      <th>like</th>\n",
       "      <td>3.871282</td>\n",
       "    </tr>\n",
       "  </tbody>\n",
       "</table>\n",
       "</div>"
      ],
      "text/plain": [
       "         helpfulness\n",
       "rating              \n",
       "dislike     3.882857\n",
       "like        3.871282"
      ]
     },
     "execution_count": 15,
     "metadata": {},
     "output_type": "execute_result"
    }
   ],
   "source": [
    "df1.groupby('rating').mean()\n"
   ]
  },
  {
   "cell_type": "markdown",
   "metadata": {},
   "source": [
    "We can calculate categorical means for other categorical variables such as review, item and category to get a more detailed sense of our data."
   ]
  },
  {
   "cell_type": "code",
   "execution_count": 16,
   "metadata": {},
   "outputs": [
    {
     "data": {
      "text/html": [
       "<div>\n",
       "<style scoped>\n",
       "    .dataframe tbody tr th:only-of-type {\n",
       "        vertical-align: middle;\n",
       "    }\n",
       "\n",
       "    .dataframe tbody tr th {\n",
       "        vertical-align: top;\n",
       "    }\n",
       "\n",
       "    .dataframe thead th {\n",
       "        text-align: right;\n",
       "    }\n",
       "</style>\n",
       "<table border=\"1\" class=\"dataframe\">\n",
       "  <thead>\n",
       "    <tr style=\"text-align: right;\">\n",
       "      <th></th>\n",
       "      <th>helpfulness</th>\n",
       "    </tr>\n",
       "    <tr>\n",
       "      <th>review</th>\n",
       "      <th></th>\n",
       "    </tr>\n",
       "  </thead>\n",
       "  <tbody>\n",
       "    <tr>\n",
       "      <th>A TWELVE GAUGE WHOPPER</th>\n",
       "      <td>4.0</td>\n",
       "    </tr>\n",
       "    <tr>\n",
       "      <th>AYANKJOINSTHERAFforFROMHERETOETERNITY&amp;spends30SECONDSOVERTOKYO</th>\n",
       "      <td>4.0</td>\n",
       "    </tr>\n",
       "    <tr>\n",
       "      <th>I Found a Clue to Great Children's Programming</th>\n",
       "      <td>4.0</td>\n",
       "    </tr>\n",
       "    <tr>\n",
       "      <th>Mr. Prufrock, Meet Mr. Narrator</th>\n",
       "      <td>4.0</td>\n",
       "    </tr>\n",
       "    <tr>\n",
       "      <th>Not #1 on my list</th>\n",
       "      <td>4.0</td>\n",
       "    </tr>\n",
       "    <tr>\n",
       "      <th>...</th>\n",
       "      <td>...</td>\n",
       "    </tr>\n",
       "    <tr>\n",
       "      <th>worth the time</th>\n",
       "      <td>4.0</td>\n",
       "    </tr>\n",
       "    <tr>\n",
       "      <th>x.com dead</th>\n",
       "      <td>3.0</td>\n",
       "    </tr>\n",
       "    <tr>\n",
       "      <th>you can have it</th>\n",
       "      <td>3.0</td>\n",
       "    </tr>\n",
       "    <tr>\n",
       "      <th>~~ I Fly SWA ~~</th>\n",
       "      <td>4.0</td>\n",
       "    </tr>\n",
       "    <tr>\n",
       "      <th>~~ I am Addicted to Amazon.com ~~</th>\n",
       "      <td>4.0</td>\n",
       "    </tr>\n",
       "  </tbody>\n",
       "</table>\n",
       "<p>2862 rows × 1 columns</p>\n",
       "</div>"
      ],
      "text/plain": [
       "                                                    helpfulness\n",
       "review                                                         \n",
       " A TWELVE GAUGE WHOPPER                                     4.0\n",
       " AYANKJOINSTHERAFforFROMHERETOETERNITY&spends30...          4.0\n",
       " I Found a Clue to Great Children's Programming             4.0\n",
       " Mr. Prufrock, Meet Mr. Narrator                            4.0\n",
       " Not #1 on my list                                          4.0\n",
       "...                                                         ...\n",
       "worth the time                                              4.0\n",
       "x.com dead                                                  3.0\n",
       "you can have it                                             3.0\n",
       "~~ I Fly SWA ~~                                             4.0\n",
       "~~ I am Addicted to Amazon.com ~~                           4.0\n",
       "\n",
       "[2862 rows x 1 columns]"
      ]
     },
     "execution_count": 16,
     "metadata": {},
     "output_type": "execute_result"
    }
   ],
   "source": [
    "df1.groupby('review').mean()\n"
   ]
  },
  {
   "cell_type": "code",
   "execution_count": 17,
   "metadata": {},
   "outputs": [
    {
     "data": {
      "text/html": [
       "<div>\n",
       "<style scoped>\n",
       "    .dataframe tbody tr th:only-of-type {\n",
       "        vertical-align: middle;\n",
       "    }\n",
       "\n",
       "    .dataframe tbody tr th {\n",
       "        vertical-align: top;\n",
       "    }\n",
       "\n",
       "    .dataframe thead th {\n",
       "        text-align: right;\n",
       "    }\n",
       "</style>\n",
       "<table border=\"1\" class=\"dataframe\">\n",
       "  <thead>\n",
       "    <tr style=\"text-align: right;\">\n",
       "      <th></th>\n",
       "      <th>helpfulness</th>\n",
       "    </tr>\n",
       "    <tr>\n",
       "      <th>item</th>\n",
       "      <th></th>\n",
       "    </tr>\n",
       "  </thead>\n",
       "  <tbody>\n",
       "    <tr>\n",
       "      <th>AOL (America Online)</th>\n",
       "      <td>3.897959</td>\n",
       "    </tr>\n",
       "    <tr>\n",
       "      <th>All Advantage</th>\n",
       "      <td>3.802632</td>\n",
       "    </tr>\n",
       "    <tr>\n",
       "      <th>Alta Vista (by 1stUp)</th>\n",
       "      <td>3.950000</td>\n",
       "    </tr>\n",
       "    <tr>\n",
       "      <th>Amazon.com</th>\n",
       "      <td>3.850000</td>\n",
       "    </tr>\n",
       "    <tr>\n",
       "      <th>American Airlines</th>\n",
       "      <td>3.937500</td>\n",
       "    </tr>\n",
       "    <tr>\n",
       "      <th>...</th>\n",
       "      <td>...</td>\n",
       "    </tr>\n",
       "    <tr>\n",
       "      <th>Wendy's</th>\n",
       "      <td>3.892857</td>\n",
       "    </tr>\n",
       "    <tr>\n",
       "      <th>What Lies Beneath</th>\n",
       "      <td>3.896552</td>\n",
       "    </tr>\n",
       "    <tr>\n",
       "      <th>X-Men</th>\n",
       "      <td>3.918367</td>\n",
       "    </tr>\n",
       "    <tr>\n",
       "      <th>X.com</th>\n",
       "      <td>3.896552</td>\n",
       "    </tr>\n",
       "    <tr>\n",
       "      <th>eBay</th>\n",
       "      <td>3.863014</td>\n",
       "    </tr>\n",
       "  </tbody>\n",
       "</table>\n",
       "<p>86 rows × 1 columns</p>\n",
       "</div>"
      ],
      "text/plain": [
       "                       helpfulness\n",
       "item                              \n",
       "AOL (America Online)      3.897959\n",
       "All Advantage             3.802632\n",
       "Alta Vista (by 1stUp)     3.950000\n",
       "Amazon.com                3.850000\n",
       "American Airlines         3.937500\n",
       "...                            ...\n",
       "Wendy's                   3.892857\n",
       "What Lies Beneath         3.896552\n",
       "X-Men                     3.918367\n",
       "X.com                     3.896552\n",
       "eBay                      3.863014\n",
       "\n",
       "[86 rows x 1 columns]"
      ]
     },
     "execution_count": 17,
     "metadata": {},
     "output_type": "execute_result"
    }
   ],
   "source": [
    "df1.groupby('item').mean()"
   ]
  },
  {
   "cell_type": "code",
   "execution_count": 18,
   "metadata": {},
   "outputs": [
    {
     "data": {
      "text/html": [
       "<div>\n",
       "<style scoped>\n",
       "    .dataframe tbody tr th:only-of-type {\n",
       "        vertical-align: middle;\n",
       "    }\n",
       "\n",
       "    .dataframe tbody tr th {\n",
       "        vertical-align: top;\n",
       "    }\n",
       "\n",
       "    .dataframe thead th {\n",
       "        text-align: right;\n",
       "    }\n",
       "</style>\n",
       "<table border=\"1\" class=\"dataframe\">\n",
       "  <thead>\n",
       "    <tr style=\"text-align: right;\">\n",
       "      <th></th>\n",
       "      <th>helpfulness</th>\n",
       "    </tr>\n",
       "    <tr>\n",
       "      <th>category</th>\n",
       "      <th></th>\n",
       "    </tr>\n",
       "  </thead>\n",
       "  <tbody>\n",
       "    <tr>\n",
       "      <th>Books</th>\n",
       "      <td>3.807692</td>\n",
       "    </tr>\n",
       "    <tr>\n",
       "      <th>Games</th>\n",
       "      <td>3.876106</td>\n",
       "    </tr>\n",
       "    <tr>\n",
       "      <th>Hotels &amp; Travel</th>\n",
       "      <td>3.924051</td>\n",
       "    </tr>\n",
       "    <tr>\n",
       "      <th>Kids &amp; Family</th>\n",
       "      <td>3.828947</td>\n",
       "    </tr>\n",
       "    <tr>\n",
       "      <th>Media</th>\n",
       "      <td>3.931034</td>\n",
       "    </tr>\n",
       "    <tr>\n",
       "      <th>Movies</th>\n",
       "      <td>3.866363</td>\n",
       "    </tr>\n",
       "    <tr>\n",
       "      <th>Online Stores &amp; Services</th>\n",
       "      <td>3.879688</td>\n",
       "    </tr>\n",
       "    <tr>\n",
       "      <th>Personal Finance</th>\n",
       "      <td>3.898551</td>\n",
       "    </tr>\n",
       "    <tr>\n",
       "      <th>Restaurants &amp; Gourmet</th>\n",
       "      <td>3.878136</td>\n",
       "    </tr>\n",
       "  </tbody>\n",
       "</table>\n",
       "</div>"
      ],
      "text/plain": [
       "                          helpfulness\n",
       "category                             \n",
       "Books                        3.807692\n",
       "Games                        3.876106\n",
       "Hotels & Travel              3.924051\n",
       "Kids & Family                3.828947\n",
       "Media                        3.931034\n",
       "Movies                       3.866363\n",
       "Online Stores & Services     3.879688\n",
       "Personal Finance             3.898551\n",
       "Restaurants & Gourmet        3.878136"
      ]
     },
     "execution_count": 18,
     "metadata": {},
     "output_type": "execute_result"
    }
   ],
   "source": [
    "df1.groupby('category').mean()\n"
   ]
  },
  {
   "cell_type": "markdown",
   "metadata": {},
   "source": [
    "# Replacing the like with 1 and dislike with 0"
   ]
  },
  {
   "cell_type": "code",
   "execution_count": 19,
   "metadata": {},
   "outputs": [],
   "source": [
    "df1['rating'].replace('like', 1 , inplace=True)\n",
    "df1['rating'].replace('dislike', 0 , inplace=True)"
   ]
  },
  {
   "cell_type": "markdown",
   "metadata": {},
   "source": [
    "# draw bar chart for rating of each category"
   ]
  },
  {
   "cell_type": "code",
   "execution_count": 20,
   "metadata": {},
   "outputs": [
    {
     "data": {
      "image/png": "[encoded data removed]",
      "text/plain": [
       "<Figure size 640x480 with 1 Axes>"
      ]
     },
     "metadata": {},
     "output_type": "display_data"
    }
   ],
   "source": [
    "df1.groupby('category').rating.mean().plot(kind='bar')\n",
    "plt.title('Rating for each category')\n",
    "plt.xlabel('category')\n",
    "plt.ylabel('Rating')\n",
    "plt.show()"
   ]
  },
  {
   "cell_type": "markdown",
   "metadata": {},
   "source": [
    "# draw bar chart for rating of each item"
   ]
  },
  {
   "cell_type": "code",
   "execution_count": 21,
   "metadata": {},
   "outputs": [
    {
     "data": {
      "image/png": "[encoded data removed]",
      "text/plain": [
       "<Figure size 640x480 with 1 Axes>"
      ]
     },
     "metadata": {},
     "output_type": "display_data"
    }
   ],
   "source": [
    "df1.groupby('item').rating.mean().plot(kind='bar')\n",
    "plt.title('Rating for each item')\n",
    "plt.xlabel('item')\n",
    "plt.ylabel('Rating')\n",
    "plt.show()\n"
   ]
  },
  {
   "cell_type": "code",
   "execution_count": 22,
   "metadata": {},
   "outputs": [
    {
     "name": "stdout",
     "output_type": "stream",
     "text": [
      "<class 'pandas.core.frame.DataFrame'>\n",
      "RangeIndex: 2899 entries, 0 to 2898\n",
      "Data columns (total 5 columns):\n",
      " #   Column       Non-Null Count  Dtype \n",
      "---  ------       --------------  ----- \n",
      " 0   item         2899 non-null   object\n",
      " 1   category     2899 non-null   object\n",
      " 2   review       2899 non-null   object\n",
      " 3   helpfulness  2899 non-null   int64 \n",
      " 4   rating       2899 non-null   int64 \n",
      "dtypes: int64(2), object(3)\n",
      "memory usage: 113.4+ KB\n"
     ]
    }
   ],
   "source": [
    "# checking info of df1\n",
    "df1.info()"
   ]
  },
  {
   "cell_type": "markdown",
   "metadata": {},
   "source": [
    "# convert object features/columns to numerical variables/columns."
   ]
  },
  {
   "cell_type": "code",
   "execution_count": 23,
   "metadata": {},
   "outputs": [],
   "source": [
    "df1['review'] = df1['review'].astype('category')\n",
    "df1['review'] = df1['review'].cat.codes\n",
    "df1['item'] = df1['item'].astype('category')\n",
    "df1['item'] = df1['item'].cat.codes\n",
    "df1['category'] = df1['category'].astype('category')\n",
    "df1['category'] = df1['category'].cat.codes"
   ]
  },
  {
   "cell_type": "code",
   "execution_count": 24,
   "metadata": {},
   "outputs": [
    {
     "data": {
      "text/html": [
       "<div>\n",
       "<style scoped>\n",
       "    .dataframe tbody tr th:only-of-type {\n",
       "        vertical-align: middle;\n",
       "    }\n",
       "\n",
       "    .dataframe tbody tr th {\n",
       "        vertical-align: top;\n",
       "    }\n",
       "\n",
       "    .dataframe thead th {\n",
       "        text-align: right;\n",
       "    }\n",
       "</style>\n",
       "<table border=\"1\" class=\"dataframe\">\n",
       "  <thead>\n",
       "    <tr style=\"text-align: right;\">\n",
       "      <th></th>\n",
       "      <th>item</th>\n",
       "      <th>category</th>\n",
       "      <th>review</th>\n",
       "      <th>helpfulness</th>\n",
       "      <th>rating</th>\n",
       "    </tr>\n",
       "  </thead>\n",
       "  <tbody>\n",
       "    <tr>\n",
       "      <th>0</th>\n",
       "      <td>43</td>\n",
       "      <td>6</td>\n",
       "      <td>856</td>\n",
       "      <td>4</td>\n",
       "      <td>1</td>\n",
       "    </tr>\n",
       "    <tr>\n",
       "      <th>1</th>\n",
       "      <td>62</td>\n",
       "      <td>5</td>\n",
       "      <td>1985</td>\n",
       "      <td>4</td>\n",
       "      <td>1</td>\n",
       "    </tr>\n",
       "    <tr>\n",
       "      <th>2</th>\n",
       "      <td>9</td>\n",
       "      <td>5</td>\n",
       "      <td>2006</td>\n",
       "      <td>4</td>\n",
       "      <td>1</td>\n",
       "    </tr>\n",
       "    <tr>\n",
       "      <th>3</th>\n",
       "      <td>77</td>\n",
       "      <td>5</td>\n",
       "      <td>472</td>\n",
       "      <td>3</td>\n",
       "      <td>1</td>\n",
       "    </tr>\n",
       "    <tr>\n",
       "      <th>4</th>\n",
       "      <td>68</td>\n",
       "      <td>5</td>\n",
       "      <td>493</td>\n",
       "      <td>4</td>\n",
       "      <td>0</td>\n",
       "    </tr>\n",
       "    <tr>\n",
       "      <th>...</th>\n",
       "      <td>...</td>\n",
       "      <td>...</td>\n",
       "      <td>...</td>\n",
       "      <td>...</td>\n",
       "      <td>...</td>\n",
       "    </tr>\n",
       "    <tr>\n",
       "      <th>2894</th>\n",
       "      <td>63</td>\n",
       "      <td>5</td>\n",
       "      <td>1221</td>\n",
       "      <td>4</td>\n",
       "      <td>1</td>\n",
       "    </tr>\n",
       "    <tr>\n",
       "      <th>2895</th>\n",
       "      <td>19</td>\n",
       "      <td>5</td>\n",
       "      <td>379</td>\n",
       "      <td>3</td>\n",
       "      <td>1</td>\n",
       "    </tr>\n",
       "    <tr>\n",
       "      <th>2896</th>\n",
       "      <td>33</td>\n",
       "      <td>5</td>\n",
       "      <td>1546</td>\n",
       "      <td>4</td>\n",
       "      <td>1</td>\n",
       "    </tr>\n",
       "    <tr>\n",
       "      <th>2897</th>\n",
       "      <td>9</td>\n",
       "      <td>5</td>\n",
       "      <td>2431</td>\n",
       "      <td>4</td>\n",
       "      <td>0</td>\n",
       "    </tr>\n",
       "    <tr>\n",
       "      <th>2898</th>\n",
       "      <td>65</td>\n",
       "      <td>5</td>\n",
       "      <td>1519</td>\n",
       "      <td>4</td>\n",
       "      <td>0</td>\n",
       "    </tr>\n",
       "  </tbody>\n",
       "</table>\n",
       "<p>2899 rows × 5 columns</p>\n",
       "</div>"
      ],
      "text/plain": [
       "      item  category  review  helpfulness  rating\n",
       "0       43         6     856            4       1\n",
       "1       62         5    1985            4       1\n",
       "2        9         5    2006            4       1\n",
       "3       77         5     472            3       1\n",
       "4       68         5     493            4       0\n",
       "...    ...       ...     ...          ...     ...\n",
       "2894    63         5    1221            4       1\n",
       "2895    19         5     379            3       1\n",
       "2896    33         5    1546            4       1\n",
       "2897     9         5    2431            4       0\n",
       "2898    65         5    1519            4       0\n",
       "\n",
       "[2899 rows x 5 columns]"
      ]
     },
     "execution_count": 24,
     "metadata": {},
     "output_type": "execute_result"
    }
   ],
   "source": [
    "df1"
   ]
  },
  {
   "cell_type": "code",
   "execution_count": 25,
   "metadata": {},
   "outputs": [
    {
     "name": "stdout",
     "output_type": "stream",
     "text": [
      "<class 'pandas.core.frame.DataFrame'>\n",
      "RangeIndex: 2899 entries, 0 to 2898\n",
      "Data columns (total 5 columns):\n",
      " #   Column       Non-Null Count  Dtype\n",
      "---  ------       --------------  -----\n",
      " 0   item         2899 non-null   int8 \n",
      " 1   category     2899 non-null   int8 \n",
      " 2   review       2899 non-null   int16\n",
      " 3   helpfulness  2899 non-null   int64\n",
      " 4   rating       2899 non-null   int64\n",
      "dtypes: int16(1), int64(2), int8(2)\n",
      "memory usage: 56.7 KB\n"
     ]
    }
   ],
   "source": [
    "# all columns are now of 'int' type\n",
    "df1.info()"
   ]
  },
  {
   "cell_type": "code",
   "execution_count": 43,
   "metadata": {},
   "outputs": [
    {
     "data": {
      "image/png": "[encoded data removed]",
      "text/plain": [
       "<Figure size 1200x500 with 2 Axes>"
      ]
     },
     "metadata": {},
     "output_type": "display_data"
    }
   ],
   "source": [
    "# correlation visualize between variables of df1\n",
    "\n",
    "import seaborn as sns\n",
    "import matplotlib.pyplot as plt\n",
    "f,ax = plt.subplots(figsize=(12, 5))\n",
    "sns.heatmap(df1.corr(), annot=True, linewidths=.5, fmt= '.1f',ax=ax)\n",
    "plt.savefig('graph.png')\n",
    "plt.show()"
   ]
  },
  {
   "cell_type": "markdown",
   "metadata": {},
   "source": [
    "# Referring train and target data"
   ]
  },
  {
   "cell_type": "code",
   "execution_count": 26,
   "metadata": {},
   "outputs": [],
   "source": [
    "X_data = df1.drop([\"rating\"], axis=1)\n",
    "y = df1.rating.values"
   ]
  },
  {
   "cell_type": "code",
   "execution_count": 27,
   "metadata": {},
   "outputs": [
    {
     "data": {
      "text/html": [
       "<div>\n",
       "<style scoped>\n",
       "    .dataframe tbody tr th:only-of-type {\n",
       "        vertical-align: middle;\n",
       "    }\n",
       "\n",
       "    .dataframe tbody tr th {\n",
       "        vertical-align: top;\n",
       "    }\n",
       "\n",
       "    .dataframe thead th {\n",
       "        text-align: right;\n",
       "    }\n",
       "</style>\n",
       "<table border=\"1\" class=\"dataframe\">\n",
       "  <thead>\n",
       "    <tr style=\"text-align: right;\">\n",
       "      <th></th>\n",
       "      <th>item</th>\n",
       "      <th>category</th>\n",
       "      <th>review</th>\n",
       "      <th>helpfulness</th>\n",
       "    </tr>\n",
       "  </thead>\n",
       "  <tbody>\n",
       "    <tr>\n",
       "      <th>0</th>\n",
       "      <td>43</td>\n",
       "      <td>6</td>\n",
       "      <td>856</td>\n",
       "      <td>4</td>\n",
       "    </tr>\n",
       "    <tr>\n",
       "      <th>1</th>\n",
       "      <td>62</td>\n",
       "      <td>5</td>\n",
       "      <td>1985</td>\n",
       "      <td>4</td>\n",
       "    </tr>\n",
       "    <tr>\n",
       "      <th>2</th>\n",
       "      <td>9</td>\n",
       "      <td>5</td>\n",
       "      <td>2006</td>\n",
       "      <td>4</td>\n",
       "    </tr>\n",
       "    <tr>\n",
       "      <th>3</th>\n",
       "      <td>77</td>\n",
       "      <td>5</td>\n",
       "      <td>472</td>\n",
       "      <td>3</td>\n",
       "    </tr>\n",
       "    <tr>\n",
       "      <th>4</th>\n",
       "      <td>68</td>\n",
       "      <td>5</td>\n",
       "      <td>493</td>\n",
       "      <td>4</td>\n",
       "    </tr>\n",
       "    <tr>\n",
       "      <th>...</th>\n",
       "      <td>...</td>\n",
       "      <td>...</td>\n",
       "      <td>...</td>\n",
       "      <td>...</td>\n",
       "    </tr>\n",
       "    <tr>\n",
       "      <th>2894</th>\n",
       "      <td>63</td>\n",
       "      <td>5</td>\n",
       "      <td>1221</td>\n",
       "      <td>4</td>\n",
       "    </tr>\n",
       "    <tr>\n",
       "      <th>2895</th>\n",
       "      <td>19</td>\n",
       "      <td>5</td>\n",
       "      <td>379</td>\n",
       "      <td>3</td>\n",
       "    </tr>\n",
       "    <tr>\n",
       "      <th>2896</th>\n",
       "      <td>33</td>\n",
       "      <td>5</td>\n",
       "      <td>1546</td>\n",
       "      <td>4</td>\n",
       "    </tr>\n",
       "    <tr>\n",
       "      <th>2897</th>\n",
       "      <td>9</td>\n",
       "      <td>5</td>\n",
       "      <td>2431</td>\n",
       "      <td>4</td>\n",
       "    </tr>\n",
       "    <tr>\n",
       "      <th>2898</th>\n",
       "      <td>65</td>\n",
       "      <td>5</td>\n",
       "      <td>1519</td>\n",
       "      <td>4</td>\n",
       "    </tr>\n",
       "  </tbody>\n",
       "</table>\n",
       "<p>2899 rows × 4 columns</p>\n",
       "</div>"
      ],
      "text/plain": [
       "      item  category  review  helpfulness\n",
       "0       43         6     856            4\n",
       "1       62         5    1985            4\n",
       "2        9         5    2006            4\n",
       "3       77         5     472            3\n",
       "4       68         5     493            4\n",
       "...    ...       ...     ...          ...\n",
       "2894    63         5    1221            4\n",
       "2895    19         5     379            3\n",
       "2896    33         5    1546            4\n",
       "2897     9         5    2431            4\n",
       "2898    65         5    1519            4\n",
       "\n",
       "[2899 rows x 4 columns]"
      ]
     },
     "execution_count": 27,
     "metadata": {},
     "output_type": "execute_result"
    }
   ],
   "source": [
    "X_data\n"
   ]
  },
  {
   "cell_type": "markdown",
   "metadata": {},
   "source": [
    "# Normalizing the whole train data"
   ]
  },
  {
   "cell_type": "code",
   "execution_count": 28,
   "metadata": {},
   "outputs": [
    {
     "data": {
      "text/plain": [
       "array([[ 0.05147484,  0.5771243 , -0.69346994,  0.37714451],\n",
       "       [ 0.79917678, -0.02276216,  0.67457339,  0.37714451],\n",
       "       [-1.2865181 , -0.02276216,  0.70001972,  0.37714451],\n",
       "       ...,\n",
       "       [-0.3420525 , -0.02276216,  0.14262386,  0.37714451],\n",
       "       [-1.2865181 , -0.02276216,  1.21500503,  0.37714451],\n",
       "       [ 0.91723498, -0.02276216,  0.10990714,  0.37714451]])"
      ]
     },
     "execution_count": 28,
     "metadata": {},
     "output_type": "execute_result"
    }
   ],
   "source": [
    "from sklearn.preprocessing import StandardScaler\n",
    "sc_x = StandardScaler()\n",
    "x1 = sc_x.fit_transform(X_data)\n",
    "x1\n"
   ]
  },
  {
   "cell_type": "code",
   "execution_count": 29,
   "metadata": {},
   "outputs": [
    {
     "data": {
      "text/plain": [
       "(2899, 4)"
      ]
     },
     "execution_count": 29,
     "metadata": {},
     "output_type": "execute_result"
    }
   ],
   "source": [
    "# checking shape of x1\n",
    "\n",
    "x1.shape"
   ]
  },
  {
   "cell_type": "markdown",
   "metadata": {},
   "source": [
    "# Spliiing the data into train and test"
   ]
  },
  {
   "cell_type": "code",
   "execution_count": 30,
   "metadata": {},
   "outputs": [],
   "source": [
    "from sklearn.model_selection import train_test_split\n",
    "\n",
    "x_train, x_test, y_train, y_test = train_test_split(x1,y,test_size = 0.2,random_state=42)"
   ]
  },
  {
   "cell_type": "code",
   "execution_count": 31,
   "metadata": {},
   "outputs": [
    {
     "data": {
      "text/plain": [
       "array([[-0.97169623, -0.02276216,  0.02993295,  0.37714451],\n",
       "       [ 0.01212211, -0.02276216, -0.84978313,  0.37714451],\n",
       "       [ 0.32694398,  1.77689724,  0.96538862,  0.37714451],\n",
       "       ...,\n",
       "       [-0.06658336, -0.02276216, -0.25724709, -2.65150352],\n",
       "       [ 0.20888578, -1.82242157,  1.23681617,  0.37714451],\n",
       "       [ 0.83852952, -0.02276216, -0.6837761 , -2.65150352]])"
      ]
     },
     "execution_count": 31,
     "metadata": {},
     "output_type": "execute_result"
    }
   ],
   "source": [
    "# checking x_train\n",
    "x_train"
   ]
  },
  {
   "cell_type": "code",
   "execution_count": 32,
   "metadata": {},
   "outputs": [
    {
     "data": {
      "text/plain": [
       "(2319, 4)"
      ]
     },
     "execution_count": 32,
     "metadata": {},
     "output_type": "execute_result"
    }
   ],
   "source": [
    "# checking shape of x_train\n",
    "x_train.shape"
   ]
  },
  {
   "cell_type": "code",
   "execution_count": 33,
   "metadata": {},
   "outputs": [],
   "source": [
    "# Taking transpose of x_train, x_test, y_train and y_test to make it suitable for matrix multiplication.\n",
    "\n",
    "x_train = x_train.T\n",
    "x_test = x_test.T\n",
    "y_train = y_train.T\n",
    "y_test = y_test.T\n"
   ]
  },
  {
   "cell_type": "code",
   "execution_count": 34,
   "metadata": {},
   "outputs": [
    {
     "name": "stdout",
     "output_type": "stream",
     "text": [
      "(4, 2319)\n",
      "(4, 580)\n",
      "(2319,)\n",
      "(580,)\n"
     ]
    }
   ],
   "source": [
    "# printing the shapes of x_train, x_test, y_train and y_test.\n",
    "\n",
    "print(x_train.shape)\n",
    "print(x_test.shape)\n",
    "print(y_train.shape)\n",
    "print(y_test.shape)\n"
   ]
  },
  {
   "cell_type": "markdown",
   "metadata": {},
   "source": [
    "# Define logistic Regression model in Python"
   ]
  },
  {
   "cell_type": "markdown",
   "metadata": {},
   "source": [
    "## 1: Initializing Parameters"
   ]
  },
  {
   "cell_type": "code",
   "execution_count": 35,
   "metadata": {},
   "outputs": [],
   "source": [
    "def initialize_weights_and_bias(dimension):\n",
    "    \n",
    "    w = np.full((dimension,1),0.01)\n",
    "    b = 0.0\n",
    "    return w,b\n",
    "w,b = initialize_weights_and_bias(30)"
   ]
  },
  {
   "cell_type": "markdown",
   "metadata": {},
   "source": [
    "## 2: Sigmoid Function"
   ]
  },
  {
   "cell_type": "code",
   "execution_count": 36,
   "metadata": {},
   "outputs": [],
   "source": [
    "def sigmoid(z):\n",
    "    y_head = 1/(1+np.exp(-z))\n",
    "    return y_head\n"
   ]
  },
  {
   "cell_type": "markdown",
   "metadata": {},
   "source": [
    "# 3: Implementing Forward and Backward Propagation"
   ]
  },
  {
   "cell_type": "code",
   "execution_count": 37,
   "metadata": {},
   "outputs": [],
   "source": [
    "def forward_backward_propagation(w, b, x_train, y_train):\n",
    "    #forward\n",
    "    z = np.dot(w.T, x_train) + b\n",
    "    y_head = sigmoid(z)\n",
    "    loss = -y_train*np.log(y_head)-(1-y_train)*np.log(1-y_head)\n",
    "    cost = (np.sum(loss))/x_train.shape[1]\n",
    "    # backward propagation\n",
    "    # x_train.shape[1]  is for scaling\n",
    "    derivative_weight = (\n",
    "        np.dot(x_train, ((y_head-y_train).T)))/x_train.shape[1]\n",
    "    # x_train.shape[1]  is for scaling\n",
    "    derivative_bias = np.sum(y_head-y_train)/x_train.shape[1]\n",
    "    gradients = {\"derivative_weight\": derivative_weight,\n",
    "                 \"derivative_bias\": derivative_bias}\n",
    "\n",
    "    return cost, gradients\n"
   ]
  },
  {
   "cell_type": "markdown",
   "metadata": {},
   "source": [
    "# 4: Implementing Update Parameters"
   ]
  },
  {
   "cell_type": "code",
   "execution_count": 38,
   "metadata": {},
   "outputs": [],
   "source": [
    "def update(w, b, x_train, y_train, learning_rate, number_of_iterarion):\n",
    "    cost_list = []\n",
    "    cost_list2 = []\n",
    "    index = []\n",
    "\n",
    "    # updating(learning) parameters is number_of_iterarion times\n",
    "    for i in range(number_of_iterarion):\n",
    "        # make forward and backward propagation and find cost and gradients\n",
    "        cost, gradients = forward_backward_propagation(w, b, x_train, y_train)\n",
    "        cost_list.append(cost)\n",
    "        # lets update\n",
    "        w = w - learning_rate * gradients[\"derivative_weight\"]\n",
    "        b = b - learning_rate * gradients[\"derivative_bias\"]\n",
    "        if i % 10 == 0:\n",
    "            cost_list2.append(cost)\n",
    "            index.append(i)\n",
    "            print(\"Cost after iteration %i: %f\" % (i, cost))\n",
    "\n",
    "    # we update(learn) parameters weights and bias\n",
    "    parameters = {\"weight\": w, \"bias\": b}\n",
    "    plt.plot(index, cost_list2)\n",
    "    plt.xticks(index, rotation='vertical')\n",
    "    plt.xlabel(\"Number of Iterarion\")\n",
    "    plt.ylabel(\"Cost\")\n",
    "    plt.show()\n",
    "    return parameters, gradients, cost_list\n"
   ]
  },
  {
   "cell_type": "markdown",
   "metadata": {},
   "source": [
    "#  5: Implementing Prediction"
   ]
  },
  {
   "cell_type": "code",
   "execution_count": 39,
   "metadata": {},
   "outputs": [],
   "source": [
    "def predict(w, b, x_test):\n",
    "    # x_test is a input for forward propagation\n",
    "    z = sigmoid(np.dot(w.T, x_test)+b)\n",
    "    Y_prediction = np.zeros((1, x_test.shape[1]))\n",
    "    # if z is bigger than 0.5, our prediction is sign one (y_head=1),\n",
    "    # if z is smaller than 0.5, our prediction is sign zero (y_head=0),\n",
    "    for i in range(z.shape[1]):\n",
    "        if z[0, i] <= 0.5:\n",
    "            Y_prediction[0, i] = 0\n",
    "        else:\n",
    "            Y_prediction[0, i] = 1\n",
    "\n",
    "    return Y_prediction\n"
   ]
  },
  {
   "cell_type": "markdown",
   "metadata": {},
   "source": [
    "# 6: Implementing Logistic Regression"
   ]
  },
  {
   "cell_type": "code",
   "execution_count": 40,
   "metadata": {},
   "outputs": [
    {
     "name": "stdout",
     "output_type": "stream",
     "text": [
      "Cost after iteration 0: 0.694089\n",
      "Cost after iteration 10: 0.643085\n",
      "Cost after iteration 20: 0.642758\n",
      "Cost after iteration 30: 0.642754\n",
      "Cost after iteration 40: 0.642754\n"
     ]
    },
    {
     "data": {
      "image/png": "[encoded data removed]",
      "text/plain": [
       "<Figure size 640x480 with 1 Axes>"
      ]
     },
     "metadata": {},
     "output_type": "display_data"
    },
    {
     "name": "stdout",
     "output_type": "stream",
     "text": [
      "test accuracy: 62.41379310344828 %\n"
     ]
    }
   ],
   "source": [
    "def logistic_regression(x_train, y_train, x_test, y_test, learning_rate ,  num_iterations):\n",
    "    # initialize\n",
    "    dimension =  x_train.shape[0]  # that is 2319\n",
    "    w,b = initialize_weights_and_bias(dimension)\n",
    "    # do not change learning rate\n",
    "    parameters, gradients, cost_list = update(w, b, x_train, y_train, learning_rate,num_iterations)\n",
    "    \n",
    "    y_prediction_test = predict(parameters[\"weight\"],parameters[\"bias\"],x_test)\n",
    "\n",
    "    # Print test Errors\n",
    "    print(\"test accuracy: {} %\".format(100 - np.mean(np.abs(y_prediction_test - y_test)) * 100))\n",
    "    \n",
    "logistic_regression(x_train, y_train, x_test, y_test,learning_rate = 1, num_iterations = 50)    "
   ]
  },
  {
   "cell_type": "markdown",
   "id": "miniature-montana",
   "metadata": {
    "papermill": {
     "duration": 0.025545,
     "end_time": "2021-08-27T09:52:38.143168",
     "exception": false,
     "start_time": "2021-08-27T09:52:38.117623",
     "status": "completed"
    },
    "tags": []
   },
   "source": [
    "# As Cost becomes constant just after 10 iterations, so we will limit the no. of iteration to only 20."
   ]
  },
  {
   "cell_type": "code",
   "execution_count": 41,
   "metadata": {},
   "outputs": [
    {
     "name": "stdout",
     "output_type": "stream",
     "text": [
      "Cost after iteration 0: 0.694089\n",
      "Cost after iteration 10: 0.643085\n"
     ]
    },
    {
     "data": {
      "image/png": "[encoded data removed]",
      "text/plain": [
       "<Figure size 640x480 with 1 Axes>"
      ]
     },
     "metadata": {},
     "output_type": "display_data"
    },
    {
     "name": "stdout",
     "output_type": "stream",
     "text": [
      "test accuracy: 62.41379310344828 %\n"
     ]
    }
   ],
   "source": [
    "def logistic_regression(x_train, y_train, x_test, y_test, learning_rate ,  num_iterations):\n",
    "    # initialize\n",
    "    dimension =  x_train.shape[0]  # that is 2319\n",
    "    w,b = initialize_weights_and_bias(dimension)\n",
    "    # do not change learning rate\n",
    "    parameters, gradients, cost_list = update(w, b, x_train, y_train, learning_rate,num_iterations)\n",
    "    \n",
    "    y_prediction_test = predict(parameters[\"weight\"],parameters[\"bias\"],x_test)\n",
    "\n",
    "    # Print test Errors\n",
    "    print(\"test accuracy: {} %\".format(100 - np.mean(np.abs(y_prediction_test - y_test)) * 100))\n",
    "    \n",
    "logistic_regression(x_train, y_train, x_test, y_test,learning_rate = 1, num_iterations = 20)    "
   ]
  },
  {
   "cell_type": "markdown",
   "metadata": {},
   "source": [
    "# 1st Required Model: Logistic Regression with Sklearn"
   ]
  },
  {
   "cell_type": "code",
   "execution_count": 42,
   "metadata": {},
   "outputs": [
    {
     "name": "stdout",
     "output_type": "stream",
     "text": [
      "test accuracy 62.41379310344828 %\n"
     ]
    }
   ],
   "source": [
    "from sklearn.linear_model import LogisticRegression\n",
    "lr = LogisticRegression()\n",
    "lr.fit(x_train.T,y_train.T)\n",
    "\n",
    "print(\"test accuracy {} %\".format(lr.score(x_test.T,y_test.T)* 100))"
   ]
  },
  {
   "cell_type": "code",
   "execution_count": 44,
   "metadata": {},
   "outputs": [
    {
     "data": {
      "text/plain": [
       "array([1, 1, 1, 1, 1, 1, 1, 1, 1, 1, 1, 1, 1, 1, 1, 1, 1, 1, 1, 1, 1, 1,\n",
       "       1, 1, 1, 1, 1, 1, 1, 1, 1, 1, 1, 1, 1, 1, 1, 1, 1, 1, 1, 1, 1, 1,\n",
       "       1, 1, 1, 1, 1, 1, 1, 1, 1, 1, 1, 1, 1, 1, 1, 1, 0, 1, 1, 1, 1, 1,\n",
       "       1, 1, 1, 1, 1, 1, 1, 1, 1, 1, 1, 1, 1, 1, 1, 1, 1, 1, 1, 1, 1, 1,\n",
       "       1, 0, 1, 1, 1, 1, 1, 1, 1, 1, 1, 1, 1, 1, 1, 1, 1, 1, 1, 0, 1, 1,\n",
       "       1, 1, 1, 1, 1, 1, 1, 1, 1, 1, 1, 1, 1, 1, 1, 1, 1, 1, 1, 1, 1, 1,\n",
       "       1, 1, 1, 1, 1, 1, 1, 1, 1, 1, 1, 1, 1, 1, 1, 1, 1, 1, 1, 1, 1, 1,\n",
       "       1, 1, 1, 1, 1, 1, 1, 1, 1, 1, 1, 1, 1, 1, 1, 1, 1, 1, 1, 1, 1, 1,\n",
       "       1, 1, 1, 1, 1, 1, 1, 1, 1, 1, 1, 1, 1, 1, 1, 1, 1, 1, 1, 1, 1, 1,\n",
       "       1, 1, 1, 1, 1, 1, 1, 1, 1, 1, 1, 0, 1, 1, 1, 1, 1, 1, 0, 1, 1, 1,\n",
       "       1, 1, 1, 1, 1, 1, 1, 1, 0, 1, 1, 1, 1, 1, 1, 1, 1, 1, 1, 1, 1, 1,\n",
       "       1, 1, 1, 1, 1, 1, 1, 1, 1, 1, 1, 1, 1, 1, 1, 1, 1, 1, 1, 1, 1, 1,\n",
       "       1, 1, 1, 1, 1, 1, 1, 1, 1, 1, 1, 1, 1, 1, 1, 1, 1, 1, 1, 1, 1, 1,\n",
       "       1, 1, 1, 1, 1, 1, 1, 1, 1, 1, 1, 1, 1, 1, 1, 1, 1, 1, 1, 1, 1, 1,\n",
       "       1, 1, 1, 1, 1, 1, 1, 1, 1, 1, 1, 1, 1, 1, 1, 1, 1, 1, 1, 1, 1, 1,\n",
       "       1, 1, 1, 1, 1, 1, 1, 1, 1, 1, 1, 1, 1, 1, 1, 1, 1, 1, 1, 1, 1, 1,\n",
       "       1, 1, 1, 1, 1, 1, 1, 1, 1, 1, 1, 1, 1, 1, 1, 1, 1, 0, 1, 1, 1, 1,\n",
       "       1, 1, 1, 1, 1, 1, 1, 1, 1, 1, 1, 1, 1, 1, 1, 0, 1, 1, 1, 1, 1, 1,\n",
       "       1, 1, 1, 1, 1, 1, 1, 1, 1, 1, 1, 1, 1, 1, 1, 1, 1, 1, 1, 1, 1, 1,\n",
       "       1, 1, 1, 1, 1, 1, 1, 1, 1, 1, 1, 1, 1, 1, 1, 1, 1, 1, 1, 1, 1, 1,\n",
       "       1, 1, 1, 1, 1, 1, 1, 1, 1, 1, 1, 1, 1, 1, 1, 1, 1, 1, 1, 1, 1, 1,\n",
       "       1, 1, 1, 1, 1, 1, 1, 1, 1, 1, 1, 1, 1, 1, 1, 1, 1, 1, 1, 1, 1, 1,\n",
       "       1, 1, 1, 1, 1, 1, 1, 1, 1, 1, 1, 1, 1, 1, 1, 1, 1, 1, 1, 1, 1, 1,\n",
       "       1, 1, 1, 1, 1, 1, 1, 1, 1, 1, 1, 1, 1, 1, 1, 1, 1, 1, 1, 1, 1, 1,\n",
       "       1, 1, 1, 1, 1, 1, 1, 1, 1, 1, 1, 1, 1, 1, 1, 1, 1, 1, 1, 1, 1, 1,\n",
       "       1, 1, 1, 1, 1, 1, 1, 1, 1, 1, 1, 1, 1, 1, 1, 1, 1, 1, 1, 1, 1, 1,\n",
       "       1, 1, 1, 1, 1, 1, 1, 1], dtype=int64)"
      ]
     },
     "execution_count": 44,
     "metadata": {},
     "output_type": "execute_result"
    }
   ],
   "source": [
    "y_pred_test = lr.predict(x_test.T)\n",
    "y_pred_test\n"
   ]
  },
  {
   "cell_type": "markdown",
   "metadata": {},
   "source": [
    "# Confusion Matrix"
   ]
  },
  {
   "cell_type": "code",
   "execution_count": 45,
   "metadata": {},
   "outputs": [
    {
     "name": "stdout",
     "output_type": "stream",
     "text": [
      "Confusion matrix\n",
      "\n",
      " [[  4 214]\n",
      " [  4 358]]\n",
      "\n",
      "True Positives(TP) =  4\n",
      "\n",
      "True Negatives(TN) =  358\n",
      "\n",
      "False Positives(FP) =  214\n",
      "\n",
      "False Negatives(FN) =  4\n"
     ]
    }
   ],
   "source": [
    "# Print the Confusion Matrix and slice it into four pieces\n",
    "\n",
    "from sklearn.metrics import confusion_matrix\n",
    "cm = confusion_matrix(y_test, y_pred_test)\n",
    "\n",
    "print('Confusion matrix\\n\\n', cm)\n",
    "\n",
    "print('\\nTrue Positives(TP) = ', cm[0,0])\n",
    "\n",
    "print('\\nTrue Negatives(TN) = ', cm[1,1])\n",
    "\n",
    "print('\\nFalse Positives(FP) = ', cm[0,1])\n",
    "\n",
    "print('\\nFalse Negatives(FN) = ', cm[1,0])"
   ]
  },
  {
   "cell_type": "markdown",
   "metadata": {},
   "source": [
    "# Visualize confusion matrix with seaborn heatmap"
   ]
  },
  {
   "cell_type": "code",
   "execution_count": 46,
   "metadata": {},
   "outputs": [
    {
     "data": {
      "text/plain": [
       "<AxesSubplot:>"
      ]
     },
     "execution_count": 46,
     "metadata": {},
     "output_type": "execute_result"
    },
    {
     "data": {
      "image/png": "[encoded data removed]",
      "text/plain": [
       "<Figure size 640x480 with 2 Axes>"
      ]
     },
     "metadata": {},
     "output_type": "display_data"
    }
   ],
   "source": [
    "cm_matrix = pd.DataFrame(data=cm, columns=['Actual Positive:1', 'Actual Negative:0'],\n",
    "                         index=['Predict Positive:1', 'Predict Negative:0'])\n",
    "\n",
    "sns.heatmap(cm_matrix, annot=True, fmt='d', cmap='YlGnBu')\n"
   ]
  },
  {
   "cell_type": "code",
   "execution_count": 47,
   "metadata": {},
   "outputs": [
    {
     "name": "stdout",
     "output_type": "stream",
     "text": [
      "              precision    recall  f1-score   support\n",
      "\n",
      "           0       0.50      0.02      0.04       218\n",
      "           1       0.63      0.99      0.77       362\n",
      "\n",
      "    accuracy                           0.62       580\n",
      "   macro avg       0.56      0.50      0.40       580\n",
      "weighted avg       0.58      0.62      0.49       580\n",
      "\n"
     ]
    }
   ],
   "source": [
    "from sklearn.metrics import classification_report\n",
    "\n",
    "print(classification_report(y_test, y_pred_test))\n"
   ]
  },
  {
   "cell_type": "code",
   "execution_count": 48,
   "metadata": {},
   "outputs": [
    {
     "name": "stdout",
     "output_type": "stream",
     "text": [
      "Classification accuracy : 0.6241\n",
      "Classification error : 0.3759\n",
      "Precision : 0.0183\n"
     ]
    }
   ],
   "source": [
    "TP = cm[0,0]\n",
    "TN = cm[1,1]\n",
    "FP = cm[0,1]\n",
    "FN = cm[1,0]\n",
    "\n",
    "# print classification accuracy\n",
    "\n",
    "classification_accuracy = (TP + TN) / float(TP + TN + FP + FN)\n",
    "\n",
    "print('Classification accuracy : {0:0.4f}'.format(classification_accuracy))\n",
    "\n",
    "# print classification error\n",
    "\n",
    "classification_error = (FP + FN) / float(TP + TN + FP + FN)\n",
    "\n",
    "print('Classification error : {0:0.4f}'.format(classification_error))\n",
    "\n",
    "# print precision score\n",
    "\n",
    "precision = TP / float(TP + FP)\n",
    "\n",
    "\n",
    "print('Precision : {0:0.4f}'.format(precision))"
   ]
  },
  {
   "cell_type": "code",
   "execution_count": 49,
   "metadata": {},
   "outputs": [
    {
     "data": {
      "text/plain": [
       "array([[0.41043408, 0.58956592],\n",
       "       [0.37805357, 0.62194643],\n",
       "       [0.38044249, 0.61955751],\n",
       "       [0.40571067, 0.59428933],\n",
       "       [0.38774851, 0.61225149],\n",
       "       [0.21786748, 0.78213252],\n",
       "       [0.25760474, 0.74239526],\n",
       "       [0.38910543, 0.61089457],\n",
       "       [0.41922645, 0.58077355],\n",
       "       [0.33013041, 0.66986959]])"
      ]
     },
     "execution_count": 49,
     "metadata": {},
     "output_type": "execute_result"
    }
   ],
   "source": [
    "# print the first 10 predicted probabilities of two classes- 0 and 1\n",
    "\n",
    "y_pred_prob = lr.predict_proba(x_test.T)[0:10]\n",
    "\n",
    "y_pred_prob\n"
   ]
  },
  {
   "cell_type": "code",
   "execution_count": 50,
   "metadata": {},
   "outputs": [
    {
     "data": {
      "text/html": [
       "<div>\n",
       "<style scoped>\n",
       "    .dataframe tbody tr th:only-of-type {\n",
       "        vertical-align: middle;\n",
       "    }\n",
       "\n",
       "    .dataframe tbody tr th {\n",
       "        vertical-align: top;\n",
       "    }\n",
       "\n",
       "    .dataframe thead th {\n",
       "        text-align: right;\n",
       "    }\n",
       "</style>\n",
       "<table border=\"1\" class=\"dataframe\">\n",
       "  <thead>\n",
       "    <tr style=\"text-align: right;\">\n",
       "      <th></th>\n",
       "      <th>Prob of - dislike (0)</th>\n",
       "      <th>Prob of - like (1)</th>\n",
       "    </tr>\n",
       "  </thead>\n",
       "  <tbody>\n",
       "    <tr>\n",
       "      <th>0</th>\n",
       "      <td>0.410434</td>\n",
       "      <td>0.589566</td>\n",
       "    </tr>\n",
       "    <tr>\n",
       "      <th>1</th>\n",
       "      <td>0.378054</td>\n",
       "      <td>0.621946</td>\n",
       "    </tr>\n",
       "    <tr>\n",
       "      <th>2</th>\n",
       "      <td>0.380442</td>\n",
       "      <td>0.619558</td>\n",
       "    </tr>\n",
       "    <tr>\n",
       "      <th>3</th>\n",
       "      <td>0.405711</td>\n",
       "      <td>0.594289</td>\n",
       "    </tr>\n",
       "    <tr>\n",
       "      <th>4</th>\n",
       "      <td>0.387749</td>\n",
       "      <td>0.612251</td>\n",
       "    </tr>\n",
       "    <tr>\n",
       "      <th>5</th>\n",
       "      <td>0.217867</td>\n",
       "      <td>0.782133</td>\n",
       "    </tr>\n",
       "    <tr>\n",
       "      <th>6</th>\n",
       "      <td>0.257605</td>\n",
       "      <td>0.742395</td>\n",
       "    </tr>\n",
       "    <tr>\n",
       "      <th>7</th>\n",
       "      <td>0.389105</td>\n",
       "      <td>0.610895</td>\n",
       "    </tr>\n",
       "    <tr>\n",
       "      <th>8</th>\n",
       "      <td>0.419226</td>\n",
       "      <td>0.580774</td>\n",
       "    </tr>\n",
       "    <tr>\n",
       "      <th>9</th>\n",
       "      <td>0.330130</td>\n",
       "      <td>0.669870</td>\n",
       "    </tr>\n",
       "  </tbody>\n",
       "</table>\n",
       "</div>"
      ],
      "text/plain": [
       "   Prob of - dislike (0)  Prob of - like (1)\n",
       "0               0.410434            0.589566\n",
       "1               0.378054            0.621946\n",
       "2               0.380442            0.619558\n",
       "3               0.405711            0.594289\n",
       "4               0.387749            0.612251\n",
       "5               0.217867            0.782133\n",
       "6               0.257605            0.742395\n",
       "7               0.389105            0.610895\n",
       "8               0.419226            0.580774\n",
       "9               0.330130            0.669870"
      ]
     },
     "execution_count": 50,
     "metadata": {},
     "output_type": "execute_result"
    }
   ],
   "source": [
    "# store the probabilities in dataframe\n",
    "\n",
    "y_pred_prob_df = pd.DataFrame(data=y_pred_prob, columns=['Prob of - dislike (0)', 'Prob of - like (1)'])\n",
    "\n",
    "y_pred_prob_df"
   ]
  },
  {
   "cell_type": "markdown",
   "metadata": {},
   "source": [
    "# Colormap to visualize the performance of the model"
   ]
  },
  {
   "cell_type": "code",
   "execution_count": 51,
   "metadata": {},
   "outputs": [
    {
     "data": {
      "image/png": "[encoded data removed]",
      "text/plain": [
       "<Figure size 800x500 with 1 Axes>"
      ]
     },
     "metadata": {},
     "output_type": "display_data"
    }
   ],
   "source": [
    "# colormap to visualize the performance of the model\n",
    "\n",
    "from matplotlib.colors import ListedColormap\n",
    "\n",
    "cmap_bold = ListedColormap(['#FFFF00', '#00FF00', '#0000FF','#000000'])\n",
    "\n",
    "# plot the first 10 predicted probabilities for class 1\n",
    "\n",
    "plt.figure(figsize=(8, 5))\n",
    "\n",
    "plt.plot([0, 1], [0, 1], 'k--')\n",
    "\n",
    "plt.plot(y_pred_prob[:, 0], y_pred_prob[:, 1], 'o', color='black')\n",
    "\n",
    "plt.xlabel('Prob of - dislike (0)')\n",
    "plt.ylabel('Prob of - like (1)')\n",
    "plt.title('Logistic Regression (Test set)')\n",
    "plt.savefig( 'graph.png')\n",
    "plt.show()\n",
    "\n"
   ]
  },
  {
   "cell_type": "markdown",
   "metadata": {},
   "source": [
    "# 2nd Required Model : KNN model"
   ]
  },
  {
   "cell_type": "code",
   "execution_count": 52,
   "metadata": {},
   "outputs": [
    {
     "name": "stdout",
     "output_type": "stream",
     "text": [
      "knn score: 0.6896551724137931\n"
     ]
    }
   ],
   "source": [
    "# knn classifier with k=5\n",
    "\n",
    "from sklearn.neighbors import KNeighborsClassifier\n",
    "\n",
    "knn = KNeighborsClassifier(n_neighbors=7)\n",
    "\n",
    "knn.fit(x_train.T, y_train.T)\n",
    "\n",
    "y_pred = knn.predict(x_test.T)\n",
    "\n",
    "print(\"knn score: {}\".format(knn.score(x_test.T, y_test.T)))\n"
   ]
  },
  {
   "cell_type": "markdown",
   "metadata": {},
   "source": [
    "# Predict the response for new observations"
   ]
  },
  {
   "cell_type": "code",
   "execution_count": 53,
   "metadata": {},
   "outputs": [
    {
     "name": "stdout",
     "output_type": "stream",
     "text": [
      "Prediction: [0 1 0 1 1 1 1 1 0 0 1 1 0 0 1 1 1 1 1 0 1 1 1 1 1 1 1 1 1 0 1 1 1 1 1 1 1\n",
      " 1 1 0 1 1 1 1 1 0 1 1 0 1 1 1 1 1 1 0 1 1 1 1 1 0 1 1 0 1 1 0 1 1 1 0 1 1\n",
      " 1 1 1 1 1 1 0 1 1 1 1 1 1 1 1 0 1 0 0 0 1 1 1 1 1 0 1 0 1 0 1 0 1 1 1 1 1\n",
      " 1 1 1 0 1 1 0 1 1 1 1 1 1 1 1 1 0 1 1 1 1 1 0 1 0 0 0 1 1 1 1 1 0 1 1 1 1\n",
      " 1 0 1 1 1 1 1 1 1 1 1 1 1 1 1 0 1 1 1 0 1 0 1 1 1 0 0 1 1 1 1 1 1 1 0 1 0\n",
      " 1 1 1 0 1 0 1 1 1 1 0 1 0 1 0 1 1 1 1 1 1 1 1 1 1 1 1 0 1 0 0 1 1 1 1 1 0\n",
      " 0 1 1 1 0 1 1 1 1 1 1 1 0 0 1 1 1 0 1 0 1 1 1 0 1 1 1 0 1 0 0 0 1 0 1 0 1\n",
      " 0 0 1 1 1 1 0 1 1 1 1 1 1 1 1 0 1 0 1 1 0 1 1 0 0 1 1 0 1 0 0 0 1 1 0 1 0\n",
      " 1 1 1 0 1 1 0 1 1 1 1 1 0 0 1 0 1 1 1 0 1 1 1 1 0 1 1 1 1 1 0 1 1 1 0 0 1\n",
      " 0 1 1 1 1 1 0 1 1 1 1 1 1 1 1 1 1 1 1 1 1 1 1 1 1 1 0 1 1 1 1 1 0 1 1 0 1\n",
      " 1 1 1 1 1 1 1 1 0 0 1 1 1 1 1 0 1 1 0 1 0 1 1 1 0 1 1 1 1 0 1 1 0 1 1 1 1\n",
      " 0 1 1 0 1 1 1 1 1 0 1 1 0 1 1 1 1 1 0 1 1 1 1 1 1 0 1 0 1 0 1 1 1 0 1 1 1\n",
      " 1 1 1 0 1 1 1 1 1 1 1 1 1 0 0 1 1 1 1 1 0 1 1 1 1 0 1 1 1 1 0 1 0 1 1 0 1\n",
      " 1 1 0 1 1 1 1 1 1 1 1 1 1 1 1 1 1 0 1 1 1 1 1 1 1 1 1 0 1 0 0 1 1 0 1 1 1\n",
      " 1 1 1 1 1 1 1 0 1 0 0 0 1 0 1 1 1 0 0 0 1 0 1 1 0 1 1 1 0 0 1 1 1 0 0 0 1\n",
      " 0 1 0 1 0 1 1 1 0 0 1 1 0 1 0 1 0 1 1 1 1 1 1 1 1]\n"
     ]
    }
   ],
   "source": [
    "new_prediction = knn.predict(x_test.T)\n",
    "\n",
    "print(\"Prediction: {}\".format(new_prediction))"
   ]
  },
  {
   "cell_type": "markdown",
   "metadata": {},
   "source": [
    "# Predict the test accuracy of kNN"
   ]
  },
  {
   "cell_type": "code",
   "execution_count": 54,
   "metadata": {},
   "outputs": [
    {
     "name": "stdout",
     "output_type": "stream",
     "text": [
      "Test set score: 68.97 %\n"
     ]
    },
    {
     "data": {
      "text/plain": [
       "array([[0.85714286, 0.14285714],\n",
       "       [0.14285714, 0.85714286],\n",
       "       [0.71428571, 0.28571429],\n",
       "       [0.28571429, 0.71428571],\n",
       "       [0.14285714, 0.85714286],\n",
       "       [0.42857143, 0.57142857],\n",
       "       [0.14285714, 0.85714286],\n",
       "       [0.42857143, 0.57142857],\n",
       "       [0.85714286, 0.14285714],\n",
       "       [0.57142857, 0.42857143]])"
      ]
     },
     "execution_count": 54,
     "metadata": {},
     "output_type": "execute_result"
    }
   ],
   "source": [
    "print(\"Test set score: {:.2f} %\".format(np.mean(new_prediction == y_test.T) * 100))\n",
    "\n",
    "# print the first 10 predicted probabilities of two classes- 0 and 1\n",
    "\n",
    "y_pred_prob = knn.predict_proba(x_test.T)[0:10]\n",
    "\n",
    "y_pred_prob"
   ]
  },
  {
   "cell_type": "markdown",
   "metadata": {},
   "source": [
    "# Store the kNN probabilities in dataframe"
   ]
  },
  {
   "cell_type": "code",
   "execution_count": 55,
   "metadata": {},
   "outputs": [
    {
     "name": "stdout",
     "output_type": "stream",
     "text": [
      "KNN Test set score: 68.97 %\n"
     ]
    },
    {
     "data": {
      "text/html": [
       "<div>\n",
       "<style scoped>\n",
       "    .dataframe tbody tr th:only-of-type {\n",
       "        vertical-align: middle;\n",
       "    }\n",
       "\n",
       "    .dataframe tbody tr th {\n",
       "        vertical-align: top;\n",
       "    }\n",
       "\n",
       "    .dataframe thead th {\n",
       "        text-align: right;\n",
       "    }\n",
       "</style>\n",
       "<table border=\"1\" class=\"dataframe\">\n",
       "  <thead>\n",
       "    <tr style=\"text-align: right;\">\n",
       "      <th></th>\n",
       "      <th>KNN Prob of - dislike (0)</th>\n",
       "      <th>KNN Prob of - like (1)</th>\n",
       "    </tr>\n",
       "  </thead>\n",
       "  <tbody>\n",
       "    <tr>\n",
       "      <th>0</th>\n",
       "      <td>0.857143</td>\n",
       "      <td>0.142857</td>\n",
       "    </tr>\n",
       "    <tr>\n",
       "      <th>1</th>\n",
       "      <td>0.142857</td>\n",
       "      <td>0.857143</td>\n",
       "    </tr>\n",
       "    <tr>\n",
       "      <th>2</th>\n",
       "      <td>0.714286</td>\n",
       "      <td>0.285714</td>\n",
       "    </tr>\n",
       "    <tr>\n",
       "      <th>3</th>\n",
       "      <td>0.285714</td>\n",
       "      <td>0.714286</td>\n",
       "    </tr>\n",
       "    <tr>\n",
       "      <th>4</th>\n",
       "      <td>0.142857</td>\n",
       "      <td>0.857143</td>\n",
       "    </tr>\n",
       "    <tr>\n",
       "      <th>5</th>\n",
       "      <td>0.428571</td>\n",
       "      <td>0.571429</td>\n",
       "    </tr>\n",
       "    <tr>\n",
       "      <th>6</th>\n",
       "      <td>0.142857</td>\n",
       "      <td>0.857143</td>\n",
       "    </tr>\n",
       "    <tr>\n",
       "      <th>7</th>\n",
       "      <td>0.428571</td>\n",
       "      <td>0.571429</td>\n",
       "    </tr>\n",
       "    <tr>\n",
       "      <th>8</th>\n",
       "      <td>0.857143</td>\n",
       "      <td>0.142857</td>\n",
       "    </tr>\n",
       "    <tr>\n",
       "      <th>9</th>\n",
       "      <td>0.571429</td>\n",
       "      <td>0.428571</td>\n",
       "    </tr>\n",
       "  </tbody>\n",
       "</table>\n",
       "</div>"
      ],
      "text/plain": [
       "   KNN Prob of - dislike (0)  KNN Prob of - like (1)\n",
       "0                   0.857143                0.142857\n",
       "1                   0.142857                0.857143\n",
       "2                   0.714286                0.285714\n",
       "3                   0.285714                0.714286\n",
       "4                   0.142857                0.857143\n",
       "5                   0.428571                0.571429\n",
       "6                   0.142857                0.857143\n",
       "7                   0.428571                0.571429\n",
       "8                   0.857143                0.142857\n",
       "9                   0.571429                0.428571"
      ]
     },
     "execution_count": 55,
     "metadata": {},
     "output_type": "execute_result"
    }
   ],
   "source": [
    "y_pred_prob_knn = pd.DataFrame(data=y_pred_prob, columns=[\n",
    "                              'KNN Prob of - dislike (0)', 'KNN Prob of - like (1)'])\n",
    "\n",
    "print(\"KNN Test set score: {:.2f} %\".format(\n",
    "    np.mean(new_prediction == y_test.T) * 100))\n",
    "\n",
    "y_pred_prob_knn\n"
   ]
  },
  {
   "cell_type": "markdown",
   "metadata": {},
   "source": [
    "# KNN ROC Curve"
   ]
  },
  {
   "cell_type": "code",
   "execution_count": 56,
   "metadata": {},
   "outputs": [
    {
     "name": "stdout",
     "output_type": "stream",
     "text": [
      "0.6896551724137931\n"
     ]
    },
    {
     "data": {
      "image/png": "[encoded data removed]",
      "text/plain": [
       "<Figure size 640x480 with 1 Axes>"
      ]
     },
     "metadata": {},
     "output_type": "display_data"
    }
   ],
   "source": [
    "# accuracy percentage\n",
    "\n",
    "from sklearn.metrics import accuracy_score\n",
    "\n",
    "print(accuracy_score(y_test.T, y_pred))\n",
    "\n",
    "# store the probabilities in dataframe\n",
    "\n",
    "y_pred_prob_knn = pd.DataFrame(data=y_pred_prob, columns=[\n",
    "                                'Prob of - dislike (0)', 'Prob of - like (1)'])\n",
    "\n",
    "y_pred_prob_knn\n",
    "\n",
    "# store the predicted probabilities for class 1 - Probability of like\n",
    "\n",
    "y_pred1 = knn.predict_proba(x_test.T)[:, 1]\n",
    "\n",
    "# plot ROC curve\n",
    "\n",
    "from sklearn.metrics import roc_curve\n",
    "\n",
    "fpr, tpr, thresholds = roc_curve(y_test.T, y_pred1)\n",
    "\n",
    "plt.plot([0, 1], [0, 1], 'k--')\n",
    "\n",
    "plt.plot(fpr, tpr, label='KNN')\n",
    "\n",
    "plt.xlabel('False Positive Rate')\n",
    "\n",
    "plt.ylabel('True Positive Rate')\n",
    "\n",
    "plt.title('KNN ROC Curve')\n",
    "\n",
    "plt.show()\n"
   ]
  },
  {
   "cell_type": "markdown",
   "metadata": {},
   "source": [
    "# KNN Accuracy vs K graph"
   ]
  },
  {
   "cell_type": "code",
   "execution_count": 57,
   "metadata": {},
   "outputs": [
    {
     "data": {
      "image/png": "[encoded data removed]",
      "text/plain": [
       "<Figure size 640x480 with 1 Axes>"
      ]
     },
     "metadata": {},
     "output_type": "display_data"
    }
   ],
   "source": [
    "from sklearn.neighbors import KNeighborsClassifier\n",
    "\n",
    "k_range = range(1, 26)\n",
    "\n",
    "scores = []\n",
    "\n",
    "for k in k_range:\n",
    "    \n",
    "        knn = KNeighborsClassifier(n_neighbors=k)\n",
    "    \n",
    "        knn.fit(x_train.T, y_train.T)\n",
    "    \n",
    "        y_pred = knn.predict(x_test.T)\n",
    "    \n",
    "        scores.append(accuracy_score(y_test.T, y_pred))\n",
    "\n",
    "plt.plot(k_range, scores)\n",
    "\n",
    "plt.xlabel('Value of K for KNN')\n",
    "\n",
    "plt.ylabel('Testing Accuracy')\n",
    "plt.savefig('Accuracy vs K')\n",
    "plt.show()"
   ]
  },
  {
   "cell_type": "code",
   "execution_count": null,
   "metadata": {},
   "outputs": [],
   "source": []
  }
 ],
 "metadata": {
  "kernelspec": {
   "display_name": "Python 3.7.13 ('datascience')",
   "language": "python",
   "name": "python3"
  },
  "language_info": {
   "codemirror_mode": {
    "name": "ipython",
    "version": 3
   },
   "file_extension": ".py",
   "mimetype": "text/x-python",
   "name": "python",
   "nbconvert_exporter": "python",
   "pygments_lexer": "ipython3",
   "version": "3.7.13"
  },
  "orig_nbformat": 4,
  "vscode": {
   "interpreter": {
    "hash": "dc6c8c412801542acfb8a09e90103c43159c45f0ced3dde90eab18b3077fbf1c"
   }
  }
 },
 "nbformat": 4,
 "nbformat_minor": 2
}
